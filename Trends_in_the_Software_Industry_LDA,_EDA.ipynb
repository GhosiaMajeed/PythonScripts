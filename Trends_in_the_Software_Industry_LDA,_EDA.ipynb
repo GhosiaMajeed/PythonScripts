{
  "cells": [
    {
      "cell_type": "code",
      "execution_count": null,
      "metadata": {
        "id": "_BRudRTGhtMc"
      },
      "outputs": [],
      "source": [
        "import pandas as pd\n",
        "import numpy as np\n",
        "import os"
      ]
    },
    {
      "cell_type": "code",
      "execution_count": null,
      "metadata": {
        "colab": {
          "base_uri": "https://localhost:8080/",
          "height": 143
        },
        "id": "qirT1rdv-ThU",
        "outputId": "5ec73bf4-ffe9-444e-ffb8-64f56b9463c0"
      },
      "outputs": [
        {
          "output_type": "execute_result",
          "data": {
            "text/plain": [
              "           Jobs Job Type Salary\n",
              "0         mysql   Remote   $125\n",
              "1  iphoneappdev   Remote   $351\n",
              "2           seo   Remote    $35"
            ],
            "text/html": [
              "\n",
              "  <div id=\"df-c30140fe-e2b3-454b-87b4-4843deead5c3\">\n",
              "    <div class=\"colab-df-container\">\n",
              "      <div>\n",
              "<style scoped>\n",
              "    .dataframe tbody tr th:only-of-type {\n",
              "        vertical-align: middle;\n",
              "    }\n",
              "\n",
              "    .dataframe tbody tr th {\n",
              "        vertical-align: top;\n",
              "    }\n",
              "\n",
              "    .dataframe thead th {\n",
              "        text-align: right;\n",
              "    }\n",
              "</style>\n",
              "<table border=\"1\" class=\"dataframe\">\n",
              "  <thead>\n",
              "    <tr style=\"text-align: right;\">\n",
              "      <th></th>\n",
              "      <th>Jobs</th>\n",
              "      <th>Job Type</th>\n",
              "      <th>Salary</th>\n",
              "    </tr>\n",
              "  </thead>\n",
              "  <tbody>\n",
              "    <tr>\n",
              "      <th>0</th>\n",
              "      <td>mysql</td>\n",
              "      <td>Remote</td>\n",
              "      <td>$125</td>\n",
              "    </tr>\n",
              "    <tr>\n",
              "      <th>1</th>\n",
              "      <td>iphoneappdev</td>\n",
              "      <td>Remote</td>\n",
              "      <td>$351</td>\n",
              "    </tr>\n",
              "    <tr>\n",
              "      <th>2</th>\n",
              "      <td>seo</td>\n",
              "      <td>Remote</td>\n",
              "      <td>$35</td>\n",
              "    </tr>\n",
              "  </tbody>\n",
              "</table>\n",
              "</div>\n",
              "      <button class=\"colab-df-convert\" onclick=\"convertToInteractive('df-c30140fe-e2b3-454b-87b4-4843deead5c3')\"\n",
              "              title=\"Convert this dataframe to an interactive table.\"\n",
              "              style=\"display:none;\">\n",
              "        \n",
              "  <svg xmlns=\"http://www.w3.org/2000/svg\" height=\"24px\"viewBox=\"0 0 24 24\"\n",
              "       width=\"24px\">\n",
              "    <path d=\"M0 0h24v24H0V0z\" fill=\"none\"/>\n",
              "    <path d=\"M18.56 5.44l.94 2.06.94-2.06 2.06-.94-2.06-.94-.94-2.06-.94 2.06-2.06.94zm-11 1L8.5 8.5l.94-2.06 2.06-.94-2.06-.94L8.5 2.5l-.94 2.06-2.06.94zm10 10l.94 2.06.94-2.06 2.06-.94-2.06-.94-.94-2.06-.94 2.06-2.06.94z\"/><path d=\"M17.41 7.96l-1.37-1.37c-.4-.4-.92-.59-1.43-.59-.52 0-1.04.2-1.43.59L10.3 9.45l-7.72 7.72c-.78.78-.78 2.05 0 2.83L4 21.41c.39.39.9.59 1.41.59.51 0 1.02-.2 1.41-.59l7.78-7.78 2.81-2.81c.8-.78.8-2.07 0-2.86zM5.41 20L4 18.59l7.72-7.72 1.47 1.35L5.41 20z\"/>\n",
              "  </svg>\n",
              "      </button>\n",
              "      \n",
              "  <style>\n",
              "    .colab-df-container {\n",
              "      display:flex;\n",
              "      flex-wrap:wrap;\n",
              "      gap: 12px;\n",
              "    }\n",
              "\n",
              "    .colab-df-convert {\n",
              "      background-color: #E8F0FE;\n",
              "      border: none;\n",
              "      border-radius: 50%;\n",
              "      cursor: pointer;\n",
              "      display: none;\n",
              "      fill: #1967D2;\n",
              "      height: 32px;\n",
              "      padding: 0 0 0 0;\n",
              "      width: 32px;\n",
              "    }\n",
              "\n",
              "    .colab-df-convert:hover {\n",
              "      background-color: #E2EBFA;\n",
              "      box-shadow: 0px 1px 2px rgba(60, 64, 67, 0.3), 0px 1px 3px 1px rgba(60, 64, 67, 0.15);\n",
              "      fill: #174EA6;\n",
              "    }\n",
              "\n",
              "    [theme=dark] .colab-df-convert {\n",
              "      background-color: #3B4455;\n",
              "      fill: #D2E3FC;\n",
              "    }\n",
              "\n",
              "    [theme=dark] .colab-df-convert:hover {\n",
              "      background-color: #434B5C;\n",
              "      box-shadow: 0px 1px 3px 1px rgba(0, 0, 0, 0.15);\n",
              "      filter: drop-shadow(0px 1px 2px rgba(0, 0, 0, 0.3));\n",
              "      fill: #FFFFFF;\n",
              "    }\n",
              "  </style>\n",
              "\n",
              "      <script>\n",
              "        const buttonEl =\n",
              "          document.querySelector('#df-c30140fe-e2b3-454b-87b4-4843deead5c3 button.colab-df-convert');\n",
              "        buttonEl.style.display =\n",
              "          google.colab.kernel.accessAllowed ? 'block' : 'none';\n",
              "\n",
              "        async function convertToInteractive(key) {\n",
              "          const element = document.querySelector('#df-c30140fe-e2b3-454b-87b4-4843deead5c3');\n",
              "          const dataTable =\n",
              "            await google.colab.kernel.invokeFunction('convertToInteractive',\n",
              "                                                     [key], {});\n",
              "          if (!dataTable) return;\n",
              "\n",
              "          const docLinkHtml = 'Like what you see? Visit the ' +\n",
              "            '<a target=\"_blank\" href=https://colab.research.google.com/notebooks/data_table.ipynb>data table notebook</a>'\n",
              "            + ' to learn more about interactive tables.';\n",
              "          element.innerHTML = '';\n",
              "          dataTable['output_type'] = 'display_data';\n",
              "          await google.colab.output.renderOutput(dataTable, element);\n",
              "          const docLink = document.createElement('div');\n",
              "          docLink.innerHTML = docLinkHtml;\n",
              "          element.appendChild(docLink);\n",
              "        }\n",
              "      </script>\n",
              "    </div>\n",
              "  </div>\n",
              "  "
            ]
          },
          "metadata": {},
          "execution_count": 2
        }
      ],
      "source": [
        "data1=pd.read_excel('/content/drive/MyDrive/All 10 freelane-webs.xlsx')\n",
        "data1.head(3)"
      ]
    },
    {
      "cell_type": "code",
      "execution_count": null,
      "metadata": {
        "id": "uHXdNQ0KKngI"
      },
      "outputs": [],
      "source": [
        "df=data1.copy()"
      ]
    },
    {
      "cell_type": "code",
      "execution_count": null,
      "metadata": {
        "colab": {
          "base_uri": "https://localhost:8080/"
        },
        "id": "JsBIOx1LMXUz",
        "outputId": "00dc76e2-e09c-4e0e-ca14-ca1b5c1e7053"
      },
      "outputs": [
        {
          "output_type": "stream",
          "name": "stdout",
          "text": [
            "<class 'pandas.core.frame.DataFrame'>\n",
            "RangeIndex: 1238 entries, 0 to 1237\n",
            "Data columns (total 3 columns):\n",
            " #   Column    Non-Null Count  Dtype \n",
            "---  ------    --------------  ----- \n",
            " 0   Jobs      1238 non-null   object\n",
            " 1   Job Type  1237 non-null   object\n",
            " 2   Salary    1236 non-null   object\n",
            "dtypes: object(3)\n",
            "memory usage: 29.1+ KB\n"
          ]
        }
      ],
      "source": [
        "df.info()"
      ]
    },
    {
      "cell_type": "code",
      "execution_count": null,
      "metadata": {
        "colab": {
          "base_uri": "https://localhost:8080/",
          "height": 175
        },
        "id": "pwcu8FX8Me8r",
        "outputId": "c5f4d23f-13c9-43c7-8a3b-ad15bdb677b8"
      },
      "outputs": [
        {
          "output_type": "execute_result",
          "data": {
            "text/plain": [
              "        Jobs Job Type Salary\n",
              "count   1238     1237   1236\n",
              "unique   102       95    651\n",
              "top       SE   Remote   $485\n",
              "freq     133      756    262"
            ],
            "text/html": [
              "\n",
              "  <div id=\"df-b3e05ff2-af1c-4c9b-82ec-532420227667\">\n",
              "    <div class=\"colab-df-container\">\n",
              "      <div>\n",
              "<style scoped>\n",
              "    .dataframe tbody tr th:only-of-type {\n",
              "        vertical-align: middle;\n",
              "    }\n",
              "\n",
              "    .dataframe tbody tr th {\n",
              "        vertical-align: top;\n",
              "    }\n",
              "\n",
              "    .dataframe thead th {\n",
              "        text-align: right;\n",
              "    }\n",
              "</style>\n",
              "<table border=\"1\" class=\"dataframe\">\n",
              "  <thead>\n",
              "    <tr style=\"text-align: right;\">\n",
              "      <th></th>\n",
              "      <th>Jobs</th>\n",
              "      <th>Job Type</th>\n",
              "      <th>Salary</th>\n",
              "    </tr>\n",
              "  </thead>\n",
              "  <tbody>\n",
              "    <tr>\n",
              "      <th>count</th>\n",
              "      <td>1238</td>\n",
              "      <td>1237</td>\n",
              "      <td>1236</td>\n",
              "    </tr>\n",
              "    <tr>\n",
              "      <th>unique</th>\n",
              "      <td>102</td>\n",
              "      <td>95</td>\n",
              "      <td>651</td>\n",
              "    </tr>\n",
              "    <tr>\n",
              "      <th>top</th>\n",
              "      <td>SE</td>\n",
              "      <td>Remote</td>\n",
              "      <td>$485</td>\n",
              "    </tr>\n",
              "    <tr>\n",
              "      <th>freq</th>\n",
              "      <td>133</td>\n",
              "      <td>756</td>\n",
              "      <td>262</td>\n",
              "    </tr>\n",
              "  </tbody>\n",
              "</table>\n",
              "</div>\n",
              "      <button class=\"colab-df-convert\" onclick=\"convertToInteractive('df-b3e05ff2-af1c-4c9b-82ec-532420227667')\"\n",
              "              title=\"Convert this dataframe to an interactive table.\"\n",
              "              style=\"display:none;\">\n",
              "        \n",
              "  <svg xmlns=\"http://www.w3.org/2000/svg\" height=\"24px\"viewBox=\"0 0 24 24\"\n",
              "       width=\"24px\">\n",
              "    <path d=\"M0 0h24v24H0V0z\" fill=\"none\"/>\n",
              "    <path d=\"M18.56 5.44l.94 2.06.94-2.06 2.06-.94-2.06-.94-.94-2.06-.94 2.06-2.06.94zm-11 1L8.5 8.5l.94-2.06 2.06-.94-2.06-.94L8.5 2.5l-.94 2.06-2.06.94zm10 10l.94 2.06.94-2.06 2.06-.94-2.06-.94-.94-2.06-.94 2.06-2.06.94z\"/><path d=\"M17.41 7.96l-1.37-1.37c-.4-.4-.92-.59-1.43-.59-.52 0-1.04.2-1.43.59L10.3 9.45l-7.72 7.72c-.78.78-.78 2.05 0 2.83L4 21.41c.39.39.9.59 1.41.59.51 0 1.02-.2 1.41-.59l7.78-7.78 2.81-2.81c.8-.78.8-2.07 0-2.86zM5.41 20L4 18.59l7.72-7.72 1.47 1.35L5.41 20z\"/>\n",
              "  </svg>\n",
              "      </button>\n",
              "      \n",
              "  <style>\n",
              "    .colab-df-container {\n",
              "      display:flex;\n",
              "      flex-wrap:wrap;\n",
              "      gap: 12px;\n",
              "    }\n",
              "\n",
              "    .colab-df-convert {\n",
              "      background-color: #E8F0FE;\n",
              "      border: none;\n",
              "      border-radius: 50%;\n",
              "      cursor: pointer;\n",
              "      display: none;\n",
              "      fill: #1967D2;\n",
              "      height: 32px;\n",
              "      padding: 0 0 0 0;\n",
              "      width: 32px;\n",
              "    }\n",
              "\n",
              "    .colab-df-convert:hover {\n",
              "      background-color: #E2EBFA;\n",
              "      box-shadow: 0px 1px 2px rgba(60, 64, 67, 0.3), 0px 1px 3px 1px rgba(60, 64, 67, 0.15);\n",
              "      fill: #174EA6;\n",
              "    }\n",
              "\n",
              "    [theme=dark] .colab-df-convert {\n",
              "      background-color: #3B4455;\n",
              "      fill: #D2E3FC;\n",
              "    }\n",
              "\n",
              "    [theme=dark] .colab-df-convert:hover {\n",
              "      background-color: #434B5C;\n",
              "      box-shadow: 0px 1px 3px 1px rgba(0, 0, 0, 0.15);\n",
              "      filter: drop-shadow(0px 1px 2px rgba(0, 0, 0, 0.3));\n",
              "      fill: #FFFFFF;\n",
              "    }\n",
              "  </style>\n",
              "\n",
              "      <script>\n",
              "        const buttonEl =\n",
              "          document.querySelector('#df-b3e05ff2-af1c-4c9b-82ec-532420227667 button.colab-df-convert');\n",
              "        buttonEl.style.display =\n",
              "          google.colab.kernel.accessAllowed ? 'block' : 'none';\n",
              "\n",
              "        async function convertToInteractive(key) {\n",
              "          const element = document.querySelector('#df-b3e05ff2-af1c-4c9b-82ec-532420227667');\n",
              "          const dataTable =\n",
              "            await google.colab.kernel.invokeFunction('convertToInteractive',\n",
              "                                                     [key], {});\n",
              "          if (!dataTable) return;\n",
              "\n",
              "          const docLinkHtml = 'Like what you see? Visit the ' +\n",
              "            '<a target=\"_blank\" href=https://colab.research.google.com/notebooks/data_table.ipynb>data table notebook</a>'\n",
              "            + ' to learn more about interactive tables.';\n",
              "          element.innerHTML = '';\n",
              "          dataTable['output_type'] = 'display_data';\n",
              "          await google.colab.output.renderOutput(dataTable, element);\n",
              "          const docLink = document.createElement('div');\n",
              "          docLink.innerHTML = docLinkHtml;\n",
              "          element.appendChild(docLink);\n",
              "        }\n",
              "      </script>\n",
              "    </div>\n",
              "  </div>\n",
              "  "
            ]
          },
          "metadata": {},
          "execution_count": 5
        }
      ],
      "source": [
        "df.describe()"
      ]
    },
    {
      "cell_type": "code",
      "execution_count": null,
      "metadata": {
        "colab": {
          "base_uri": "https://localhost:8080/"
        },
        "id": "xlUSbVsBMjDM",
        "outputId": "388b3dba-2480-4ce6-e53f-8040c9475699"
      },
      "outputs": [
        {
          "output_type": "execute_result",
          "data": {
            "text/plain": [
              "Jobs        0\n",
              "Job Type    1\n",
              "Salary      2\n",
              "dtype: int64"
            ]
          },
          "metadata": {},
          "execution_count": 6
        }
      ],
      "source": [
        "df.isna().sum()"
      ]
    },
    {
      "cell_type": "code",
      "execution_count": null,
      "metadata": {
        "colab": {
          "base_uri": "https://localhost:8080/"
        },
        "id": "nUMxj5ekMoAX",
        "outputId": "b02885e8-14c2-46c1-f4af-2a707fb0672c"
      },
      "outputs": [
        {
          "output_type": "execute_result",
          "data": {
            "text/plain": [
              "1238"
            ]
          },
          "metadata": {},
          "execution_count": 9
        }
      ],
      "source": [
        "df['Jobs'].count()"
      ]
    },
    {
      "cell_type": "code",
      "execution_count": null,
      "metadata": {
        "id": "4oQ4Qtn2kHCd"
      },
      "outputs": [],
      "source": []
    },
    {
      "cell_type": "code",
      "execution_count": null,
      "metadata": {
        "colab": {
          "base_uri": "https://localhost:8080/"
        },
        "id": "quS2trDoMvVX",
        "outputId": "66c2c4a1-da8a-4087-9a1c-a365581989bf"
      },
      "outputs": [
        {
          "data": {
            "text/plain": [
              "array(['mysql', 'iphoneappdev', 'seo', 'js', 'php', 'photoshop',\n",
              "       'reactjs', 'nodejs', 'mobileappdev', 'androiddevloper', 'laravel',\n",
              "       'ML', 'graphicdesign', 'c++', 'c', 'html', 'angular', 'wordpress',\n",
              "       'android', 'java', 'jquery', 'webscraping', 'word', 'css',\n",
              "       'ecommerce', 'spring', 'flutter', 'db', 'ux', 'unittesting',\n",
              "       'mongodb', 'testing', 'webdesigner', 'softwaretesting',\n",
              "       'softwaredevloper', 'gamedev', 'python', 'reactnative', 'AI',\n",
              "       '.net', 'adobeillustrator', 'ui', 'qa', 'qc', 'SE', 'se',\n",
              "       'fullstack', 'devops', 'backend', 'unity', 'gamedesigner',\n",
              "       'dataanalyst', 'webdevloper', 'pm', 'DL', 'frontend',\n",
              "       'graphicdesigner', 'php ', 'softwaredev', 'webanalyst', 'ios',\n",
              "       'softwaredeveloper', 'cloudengr', 'softwaretester', 'woocommerce',\n",
              "       'vue', 'excel', 'frontend ', 'Java Spring', 'django',\n",
              "       'graphicsdesign', 'mobile website design', 'shopify design',\n",
              "       'android design', 'mobileapplicationdevloper', 'ecommerce website',\n",
              "       'dbdev', 'mobile design', 'back end developer', 'brand design',\n",
              "       'adobe photoshop', 'linux', 'c#', 'image resizing', 'illustration',\n",
              "       'appdevloper', 'webdesignerer', 'web', 'flashdevloper', 'tableau',\n",
              "       'backennd', 'gamedevloper', 'softwaredesigner', 'scrum', 'wix',\n",
              "       ' software developer', 'software designing', 'software design',\n",
              "       'appdeveloper', 'ios developer', 'software designer', 'mvc'],\n",
              "      dtype=object)"
            ]
          },
          "execution_count": 8,
          "metadata": {},
          "output_type": "execute_result"
        }
      ],
      "source": [
        "df['Jobs'].unique()"
      ]
    },
    {
      "cell_type": "code",
      "execution_count": null,
      "metadata": {
        "id": "zf7Jqi4e_HcQ"
      },
      "outputs": [],
      "source": []
    },
    {
      "cell_type": "code",
      "execution_count": null,
      "metadata": {
        "colab": {
          "base_uri": "https://localhost:8080/"
        },
        "id": "F6yZi0XGNG3Z",
        "outputId": "150d74a6-d647-4d56-da84-1fbe48844e77"
      },
      "outputs": [
        {
          "data": {
            "text/plain": [
              "array(['mysql', 'iphoneappdev', 'seo', 'js', 'php', 'photoshop',\n",
              "       'reactjs', 'nodejs', 'mobileappdev', 'androiddevloper', 'laravel',\n",
              "       'ML', 'graphicdesign', 'c++', 'c', 'html', 'angular', 'wordpress',\n",
              "       'android', 'java', 'jquery', 'webscraping', 'word', 'css',\n",
              "       'ecommerce', 'spring', 'flutter', 'db', 'ux', 'unittesting',\n",
              "       'mongodb', 'testing', 'webdesigner', 'softwaretesting',\n",
              "       'softwaredevloper', 'gamedev', 'python', 'reactnative', 'AI',\n",
              "       '.net', 'adobeillustrator', 'ui', 'qa', 'qc', 'SE', 'se',\n",
              "       'fullstack', 'devops', 'backend', 'unity', 'gamedesigner',\n",
              "       'dataanalyst', 'webdevloper', 'pm', 'DL', 'frontend',\n",
              "       'graphicdesigner', 'php ', 'softwaredev', 'webanalyst', 'ios',\n",
              "       'softwaredeveloper', 'cloudengr', 'softwaretester', 'woocommerce',\n",
              "       'vue', 'excel', 'frontend ', 'Java Spring', 'django',\n",
              "       'graphicsdesign', 'mobile website design', 'shopify design',\n",
              "       'android design', 'mobileapplicationdevloper', 'ecommerce website',\n",
              "       'dbdev', 'mobile design', 'back end developer', 'brand design',\n",
              "       'adobe photoshop', 'linux', 'c#', 'image resizing', 'illustration',\n",
              "       'appdevloper', 'webdesignerer', 'web', 'flashdevloper', 'tableau',\n",
              "       'backennd', 'gamedevloper', 'softwaredesigner', 'scrum', 'wix',\n",
              "       ' software developer', 'software designing', 'software design',\n",
              "       'appdeveloper', 'ios developer', 'software designer', 'mvc'],\n",
              "      dtype=object)"
            ]
          },
          "execution_count": 9,
          "metadata": {},
          "output_type": "execute_result"
        }
      ],
      "source": [
        "a = df['Jobs'].unique()\n",
        "a"
      ]
    },
    {
      "cell_type": "code",
      "execution_count": null,
      "metadata": {
        "id": "Qmbod3x8NdZb"
      },
      "outputs": [],
      "source": [
        "import matplotlib.pyplot as plt\n",
        "import seaborn as sns"
      ]
    },
    {
      "cell_type": "code",
      "execution_count": null,
      "metadata": {
        "colab": {
          "base_uri": "https://localhost:8080/",
          "height": 296
        },
        "id": "dUCv5FJPNUHX",
        "outputId": "56592601-6edc-4504-9c10-71a3437153d3"
      },
      "outputs": [
        {
          "data": {
            "text/plain": [
              "Text(0.5, 0, 'Jobs')"
            ]
          },
          "execution_count": 11,
          "metadata": {},
          "output_type": "execute_result"
        },
        {
          "data": {
            "image/png": "[encoded data removed]",
            "text/plain": [
              "<Figure size 432x288 with 1 Axes>"
            ]
          },
          "metadata": {},
          "output_type": "display_data"
        }
      ],
      "source": [
        "sns.countplot(x = a, data = df)\n",
        "plt.xlabel('Jobs')"
      ]
    },
    {
      "cell_type": "code",
      "execution_count": null,
      "metadata": {
        "colab": {
          "base_uri": "https://localhost:8080/",
          "height": 296
        },
        "id": "y1jbiAF9Nb4X",
        "outputId": "68796e55-af25-484d-e524-18c2d04b9922"
      },
      "outputs": [
        {
          "data": {
            "text/plain": [
              "Text(0.5, 0, 'Job Type')"
            ]
          },
          "execution_count": 12,
          "metadata": {},
          "output_type": "execute_result"
        },
        {
          "data": {
            "image/png": "[encoded data removed]",
            "text/plain": [
              "<Figure size 432x288 with 1 Axes>"
            ]
          },
          "metadata": {},
          "output_type": "display_data"
        }
      ],
      "source": [
        "c = df['Job Type'].unique()\n",
        "sns.countplot(x = c, data = df)\n",
        "plt.xlabel('Job Type')"
      ]
    },
    {
      "cell_type": "code",
      "execution_count": null,
      "metadata": {
        "colab": {
          "base_uri": "https://localhost:8080/"
        },
        "id": "jBMq7YbzO9z5",
        "outputId": "639a2a53-208c-4f91-b9b5-528ca7390568"
      },
      "outputs": [
        {
          "data": {
            "text/plain": [
              "1237"
            ]
          },
          "execution_count": 13,
          "metadata": {},
          "output_type": "execute_result"
        }
      ],
      "source": [
        "df1 = len(df['Job Type'].dropna())\n",
        "df1"
      ]
    },
    {
      "cell_type": "code",
      "execution_count": null,
      "metadata": {
        "id": "hLxeSJbAkfRw"
      },
      "outputs": [],
      "source": []
    },
    {
      "cell_type": "code",
      "execution_count": null,
      "metadata": {
        "colab": {
          "base_uri": "https://localhost:8080/"
        },
        "id": "gBSibRXvPyYR",
        "outputId": "855d04ab-1764-42dc-9a21-9d240739b6a7"
      },
      "outputs": [
        {
          "data": {
            "text/plain": [
              "1238"
            ]
          },
          "execution_count": 14,
          "metadata": {},
          "output_type": "execute_result"
        }
      ],
      "source": [
        "df2 = len(df['Jobs'].dropna())\n",
        "df2"
      ]
    },
    {
      "cell_type": "code",
      "execution_count": null,
      "metadata": {
        "colab": {
          "base_uri": "https://localhost:8080/"
        },
        "id": "dxqhL8WfQi0k",
        "outputId": "452ce3a8-071b-43ca-f82e-32523915a2df"
      },
      "outputs": [
        {
          "data": {
            "text/plain": [
              "1236"
            ]
          },
          "execution_count": 15,
          "metadata": {},
          "output_type": "execute_result"
        }
      ],
      "source": [
        "df3 = len(df['Salary'].dropna())\n",
        "df3"
      ]
    },
    {
      "cell_type": "code",
      "execution_count": null,
      "metadata": {
        "colab": {
          "base_uri": "https://localhost:8080/",
          "height": 350
        },
        "id": "MXlMQp3NQ6da",
        "outputId": "74490f57-5c2f-47fa-d019-7abdcaf171f4"
      },
      "outputs": [
        {
          "data": {
            "image/png": "[encoded data removed]",
            "text/plain": [
              "<Figure size 1080x360 with 1 Axes>"
            ]
          },
          "metadata": {},
          "output_type": "display_data"
        }
      ],
      "source": [
        "country_data=df.groupby('Jobs').size().sort_values(ascending=False).head(7)\n",
        "country = country_data.index.tolist()\n",
        "values = country_data.values.tolist()\n",
        "\n",
        "_ = plt.figure(figsize=(15,5))\n",
        "_ = plt.title('Number of Jobs')\n",
        "g = sns.barplot(x=country,y=values)\n",
        "for i in g.patches:\n",
        "    _ = g.text(i.get_x()+.24,i.get_height()+.38,str(int(round(i.get_height(),0))))\n",
        "_ = plt.xlabel('Jobs')\n",
        "_ = plt.ylabel('Count')"
      ]
    },
    {
      "cell_type": "code",
      "execution_count": null,
      "metadata": {
        "colab": {
          "base_uri": "https://localhost:8080/",
          "height": 513
        },
        "id": "1fVIXzZSRIKD",
        "outputId": "a3e9c6c6-939a-47ec-f0cc-1ee396f61b14"
      },
      "outputs": [
        {
          "data": {
            "image/png": "[encoded data removed]",
            "text/plain": [
              "<Figure size 1368x576 with 1 Axes>"
            ]
          },
          "metadata": {},
          "output_type": "display_data"
        }
      ],
      "source": [
        "country_data=df.groupby('Job Type').size().sort_values(ascending=False).head(7)\n",
        "country = country_data.index.tolist()\n",
        "values = country_data.values.tolist()\n",
        "\n",
        "_ = plt.figure(figsize=(19,8))\n",
        "_ = plt.title('List of Job Type')\n",
        "g = sns.barplot(x=country,y=values)\n",
        "for i in g.patches:\n",
        "    _ = g.text(i.get_x()+.24,i.get_height()+.38,str(int(round(i.get_height(),0))))\n",
        "_ = plt.xlabel('Job Type')\n",
        "_ = plt.ylabel('Count')"
      ]
    },
    {
      "cell_type": "code",
      "execution_count": null,
      "metadata": {
        "colab": {
          "base_uri": "https://localhost:8080/",
          "height": 517
        },
        "id": "xcxusLbzR0ds",
        "outputId": "b43baa0a-993b-4d9f-ee65-7fd511e7cfe1"
      },
      "outputs": [
        {
          "data": {
            "image/png": "[encoded data removed]",
            "text/plain": [
              "<Figure size 1368x576 with 1 Axes>"
            ]
          },
          "metadata": {},
          "output_type": "display_data"
        }
      ],
      "source": [
        "country_data=df.groupby('Salary').size().sort_values(ascending=False).head(7)\n",
        "country = country_data.index.tolist()\n",
        "values = country_data.values.tolist()\n",
        "\n",
        "_ = plt.figure(figsize=(19,8))\n",
        "_ = plt.title('List acc. to Salary')\n",
        "g = sns.barplot(x=country,y=values)\n",
        "for i in g.patches:\n",
        "    _ = g.text(i.get_x()+.24,i.get_height()+.38,str(int(round(i.get_height(),0))))\n",
        "_ = plt.xlabel('Salary')\n",
        "_ = plt.ylabel('Count')"
      ]
    },
    {
      "cell_type": "code",
      "execution_count": null,
      "metadata": {
        "id": "bKyLYTkiqvG1"
      },
      "outputs": [],
      "source": [
        "import plotly.express as px"
      ]
    },
    {
      "cell_type": "code",
      "execution_count": null,
      "metadata": {
        "id": "xNfuVbFgl6wA"
      },
      "outputs": [],
      "source": []
    },
    {
      "cell_type": "code",
      "execution_count": null,
      "metadata": {
        "colab": {
          "base_uri": "https://localhost:8080/",
          "height": 279
        },
        "id": "dcEsrGynSN4C",
        "outputId": "a45f45ed-040a-4851-9414-cc67c690ef29"
      },
      "outputs": [
        {
          "data": {
            "image/png": "[encoded data removed]",
            "text/plain": [
              "<Figure size 432x288 with 1 Axes>"
            ]
          },
          "metadata": {},
          "output_type": "display_data"
        }
      ],
      "source": [
        "sns.countplot(y=df.Jobs,order=df.Jobs.value_counts().iloc[:10].index)\n",
        "# plt.xticks(rotation=90)\n",
        "plt.show()"
      ]
    },
    {
      "cell_type": "code",
      "execution_count": null,
      "metadata": {
        "id": "8FQpZ5tTuwUA"
      },
      "outputs": [],
      "source": []
    },
    {
      "cell_type": "code",
      "execution_count": null,
      "metadata": {
        "colab": {
          "base_uri": "https://localhost:8080/"
        },
        "id": "sGlcUsqsrj64",
        "outputId": "1597aa47-e73e-4bd4-abcb-43229ae912e8"
      },
      "outputs": [
        {
          "name": "stdout",
          "output_type": "stream",
          "text": [
            "['mysql']\n"
          ]
        },
        {
          "name": "stderr",
          "output_type": "stream",
          "text": [
            "[nltk_data] Downloading package stopwords to /root/nltk_data...\n",
            "[nltk_data]   Unzipping corpora/stopwords.zip.\n"
          ]
        }
      ],
      "source": [
        "import gensim\n",
        "from gensim.utils import simple_preprocess\n",
        "import nltk\n",
        "nltk.download('stopwords')\n",
        "from nltk.corpus import stopwords\n",
        "stop_words = stopwords.words('english')\n",
        "stop_words.extend(['from', 'subject', 're', 'edu', 'use'])\n",
        "def sent_to_words(sentences):\n",
        "    for sentence in sentences:\n",
        "        # deacc=True removes punctuations\n",
        "        yield(gensim.utils.simple_preprocess(str(sentence), deacc=True))\n",
        "def remove_stopwords(texts):\n",
        "    return [[word for word in simple_preprocess(str(doc))\n",
        "             if word not in stop_words] for doc in texts]\n",
        "data = df.Jobs.values.tolist()\n",
        "data_words = list(sent_to_words(data))\n",
        "# remove stop words\n",
        "data_words = remove_stopwords(data_words)\n",
        "print(data_words[:1][0][:30])\n"
      ]
    },
    {
      "cell_type": "code",
      "execution_count": null,
      "metadata": {
        "colab": {
          "base_uri": "https://localhost:8080/"
        },
        "id": "MC8_NACwsWt8",
        "outputId": "265e4f61-063a-4d4c-eec0-51337c1db88a"
      },
      "outputs": [
        {
          "name": "stdout",
          "output_type": "stream",
          "text": [
            "[(0, 1)]\n"
          ]
        }
      ],
      "source": [
        "import gensim.corpora as corpora\n",
        "# Create Dictionary\n",
        "id2word = corpora.Dictionary(data_words)\n",
        "# Create Corpus\n",
        "texts = data_words\n",
        "# Term Document Frequency\n",
        "corpus = [id2word.doc2bow(text) for text in texts]\n",
        "# View\n",
        "print(corpus[:1][0][:30])"
      ]
    },
    {
      "cell_type": "code",
      "execution_count": null,
      "metadata": {
        "colab": {
          "base_uri": "https://localhost:8080/"
        },
        "id": "Igg74_QCv1gx",
        "outputId": "39a7a014-d6c7-4b2c-97a0-816d820a9949"
      },
      "outputs": [
        {
          "name": "stderr",
          "output_type": "stream",
          "text": [
            "WARNING:gensim.models.ldamulticore:too few updates, training might not converge; consider increasing the number of passes or iterations to improve accuracy\n"
          ]
        },
        {
          "name": "stdout",
          "output_type": "stream",
          "text": [
            "[(0,\n",
            "  '0.319*\"se\" + 0.140*\"ios\" + 0.078*\"ecommerce\" + 0.078*\"fullstack\" + '\n",
            "  '0.071*\"androiddevloper\" + 0.040*\"appdevloper\" + 0.024*\"php\" + 0.024*\"mysql\" '\n",
            "  '+ 0.024*\"softwaretester\" + 0.024*\"excel\"'),\n",
            " (1,\n",
            "  '0.439*\"graphicsdesign\" + 0.138*\"fullstack\" + 0.092*\"qc\" + 0.075*\"html\" + '\n",
            "  '0.029*\"webdesignerer\" + 0.029*\"flutter\" + 0.024*\"js\" + 0.018*\"ui\" + '\n",
            "  '0.018*\"devops\" + 0.012*\"mongodb\"'),\n",
            " (2,\n",
            "  '0.221*\"se\" + 0.094*\"wordpress\" + 0.087*\"webdevloper\" + 0.087*\"woocommerce\" '\n",
            "  '+ 0.074*\"reactjs\" + 0.074*\"jquery\" + 0.054*\"backend\" + 0.054*\"seo\" + '\n",
            "  '0.054*\"python\" + 0.021*\"js\"'),\n",
            " (3,\n",
            "  '0.173*\"frontend\" + 0.111*\"html\" + 0.111*\"nodejs\" + 0.071*\"mysql\" + '\n",
            "  '0.071*\"backend\" + 0.071*\"php\" + 0.056*\"android\" + 0.032*\"wordpress\" + '\n",
            "  '0.032*\"ai\" + 0.024*\"se\"'),\n",
            " (4,\n",
            "  '0.358*\"webdevloper\" + 0.135*\"ux\" + 0.054*\"graphicdesigner\" + 0.046*\"js\" + '\n",
            "  '0.037*\"se\" + 0.037*\"photoshop\" + 0.028*\"backend\" + 0.028*\"android\" + '\n",
            "  '0.028*\"java\" + 0.019*\"wordpress\"'),\n",
            " (5,\n",
            "  '0.338*\"se\" + 0.143*\"ui\" + 0.061*\"php\" + 0.053*\"angular\" + 0.046*\"net\" + '\n",
            "  '0.046*\"mobileappdev\" + 0.038*\"webdesigner\" + 0.031*\"dbdev\" + '\n",
            "  '0.027*\"graphicdesign\" + 0.023*\"woocommerce\"'),\n",
            " (6,\n",
            "  '0.324*\"wordpress\" + 0.193*\"qa\" + 0.085*\"java\" + 0.070*\"ux\" + '\n",
            "  '0.047*\"laravel\" + 0.047*\"reactnative\" + 0.024*\"jquery\" + '\n",
            "  '0.024*\"appdevloper\" + 0.016*\"js\" + 0.016*\"appdeveloper\"'),\n",
            " (7,\n",
            "  '0.194*\"mysql\" + 0.157*\"seo\" + 0.084*\"ios\" + 0.075*\"se\" + 0.065*\"design\" + '\n",
            "  '0.065*\"android\" + 0.065*\"appdevloper\" + 0.038*\"graphicdesigner\" + '\n",
            "  '0.019*\"php\" + 0.019*\"java\"'),\n",
            " (8,\n",
            "  '0.147*\"backend\" + 0.099*\"php\" + 0.062*\"graphicsdesign\" + 0.062*\"ui\" + '\n",
            "  '0.062*\"woocommerce\" + 0.050*\"mobile\" + 0.050*\"design\" + 0.050*\"website\" + '\n",
            "  '0.050*\"reactjs\" + 0.050*\"python\"'),\n",
            " (9,\n",
            "  '0.185*\"ios\" + 0.118*\"graphicsdesign\" + 0.085*\"python\" + 0.068*\"qc\" + '\n",
            "  '0.052*\"nodejs\" + 0.052*\"androiddevloper\" + 0.052*\"softwaretesting\" + '\n",
            "  '0.035*\"wordpress\" + 0.035*\"graphicdesigner\" + 0.035*\"laravel\"')]\n"
          ]
        }
      ],
      "source": [
        "from pprint import pprint\n",
        "# number of topics\n",
        "num_topics = 10\n",
        "# Build LDA model\n",
        "lda_model = gensim.models.LdaMulticore(corpus=corpus,\n",
        "                                       id2word=id2word,\n",
        "                                       num_topics=num_topics)\n",
        "# Print the Keyword in the 10 topics\n",
        "pprint(lda_model.print_topics())\n",
        "doc_lda = lda_model[corpus]"
      ]
    },
    {
      "cell_type": "code",
      "execution_count": null,
      "metadata": {
        "colab": {
          "base_uri": "https://localhost:8080/"
        },
        "id": "pOmq5cE3wEI-",
        "outputId": "78692ae2-eecc-425c-e027-5d7c9f7bfbf0"
      },
      "outputs": [
        {
          "name": "stdout",
          "output_type": "stream",
          "text": [
            "Looking in indexes: https://pypi.org/simple, https://us-python.pkg.dev/colab-wheels/public/simple/\n",
            "Collecting pyLDAvis\n",
            "  Downloading pyLDAvis-3.4.0-py3-none-any.whl (2.6 MB)\n",
            "\u001b[2K     \u001b[90m━━━━━━━━━━━━━━━━━━━━━━━━━━━━━━━━━━━━━━━━\u001b[0m \u001b[32m2.6/2.6 MB\u001b[0m \u001b[31m49.8 MB/s\u001b[0m eta \u001b[36m0:00:00\u001b[0m\n",
            "\u001b[?25hRequirement already satisfied: joblib>=1.2.0 in /usr/local/lib/python3.8/dist-packages (from pyLDAvis) (1.2.0)\n",
            "Requirement already satisfied: numexpr in /usr/local/lib/python3.8/dist-packages (from pyLDAvis) (2.8.4)\n",
            "Requirement already satisfied: numpy>=1.22.0 in /usr/local/lib/python3.8/dist-packages (from pyLDAvis) (1.22.4)\n",
            "Requirement already satisfied: gensim in /usr/local/lib/python3.8/dist-packages (from pyLDAvis) (3.6.0)\n",
            "Requirement already satisfied: setuptools in /usr/local/lib/python3.8/dist-packages (from pyLDAvis) (57.4.0)\n",
            "Requirement already satisfied: jinja2 in /usr/local/lib/python3.8/dist-packages (from pyLDAvis) (3.1.2)\n",
            "Requirement already satisfied: scipy in /usr/local/lib/python3.8/dist-packages (from pyLDAvis) (1.7.3)\n",
            "Requirement already satisfied: pandas>=1.3.4 in /usr/local/lib/python3.8/dist-packages (from pyLDAvis) (1.3.5)\n",
            "Requirement already satisfied: scikit-learn>=1.0.0 in /usr/local/lib/python3.8/dist-packages (from pyLDAvis) (1.0.2)\n",
            "Collecting funcy\n",
            "  Downloading funcy-1.18-py2.py3-none-any.whl (33 kB)\n",
            "Requirement already satisfied: python-dateutil>=2.7.3 in /usr/local/lib/python3.8/dist-packages (from pandas>=1.3.4->pyLDAvis) (2.8.2)\n",
            "Requirement already satisfied: pytz>=2017.3 in /usr/local/lib/python3.8/dist-packages (from pandas>=1.3.4->pyLDAvis) (2022.7.1)\n",
            "Requirement already satisfied: threadpoolctl>=2.0.0 in /usr/local/lib/python3.8/dist-packages (from scikit-learn>=1.0.0->pyLDAvis) (3.1.0)\n",
            "Requirement already satisfied: smart-open>=1.2.1 in /usr/local/lib/python3.8/dist-packages (from gensim->pyLDAvis) (6.3.0)\n",
            "Requirement already satisfied: six>=1.5.0 in /usr/local/lib/python3.8/dist-packages (from gensim->pyLDAvis) (1.15.0)\n",
            "Requirement already satisfied: MarkupSafe>=2.0 in /usr/local/lib/python3.8/dist-packages (from jinja2->pyLDAvis) (2.1.2)\n",
            "Installing collected packages: funcy, pyLDAvis\n",
            "Successfully installed funcy-1.18 pyLDAvis-3.4.0\n"
          ]
        }
      ],
      "source": [
        "pip install pyLDAvis"
      ]
    },
    {
      "cell_type": "code",
      "execution_count": null,
      "metadata": {
        "colab": {
          "base_uri": "https://localhost:8080/",
          "height": 916
        },
        "id": "YxZN76uAv5-o",
        "outputId": "70f0c3f9-c38e-4eba-a30b-3fc96a76af3a"
      },
      "outputs": [
        {
          "name": "stderr",
          "output_type": "stream",
          "text": [
            "/usr/local/lib/python3.8/dist-packages/pyLDAvis/_prepare.py:243: FutureWarning: In a future version of pandas all arguments of DataFrame.drop except for the argument 'labels' will be keyword-only\n",
            "  default_term_info = default_term_info.sort_values(\n"
          ]
        },
        {
          "data": {
            "text/html": [
              "\n",
              "<link rel=\"stylesheet\" type=\"text/css\" href=\"https://cdn.jsdelivr.net/gh/bmabey/pyLDAvis@3.4.0/pyLDAvis/js/ldavis.v1.0.0.css\">\n",
              "\n",
              "\n",
              "<div id=\"ldavis_el1291406747281867043230075651\" style=\"background-color:white;\"></div>\n",
              "<script type=\"text/javascript\">\n",
              "\n",
              "var ldavis_el1291406747281867043230075651_data = {\"mdsDat\": {\"x\": [-0.043232068482257226, 0.36460973051154466, -0.14439208953744573, -0.15515708254110147, 0.1156727823370864, -0.09637881621733276, -0.028185164528849026, 0.052579769291233085, 0.11993420907832705, -0.1854512699112054], \"y\": [0.25441567371613416, -0.061034147733582574, -0.2854249861709651, -0.10918969538325543, 0.03863850639921025, 0.057653054557422825, 0.1717825414143049, -0.01853022087450806, -0.08827612489717995, 0.039965398972419186], \"topics\": [1, 2, 3, 4, 5, 6, 7, 8, 9, 10], \"cluster\": [1, 1, 1, 1, 1, 1, 1, 1, 1, 1], \"Freq\": [12.50793497598168, 12.284313998826892, 11.26969256481436, 10.980836637119397, 10.283177694211181, 9.986604792931612, 8.503813977245333, 8.345416790768162, 7.955235313077856, 7.882973255023529]}, \"tinfo\": {\"Term\": [\"graphicsdesign\", \"se\", \"webdevloper\", \"wordpress\", \"ios\", \"mysql\", \"qa\", \"frontend\", \"fullstack\", \"ui\", \"ux\", \"seo\", \"backend\", \"html\", \"nodejs\", \"qc\", \"php\", \"woocommerce\", \"python\", \"reactjs\", \"androiddevloper\", \"android\", \"design\", \"appdevloper\", \"java\", \"ecommerce\", \"jquery\", \"angular\", \"graphicdesigner\", \"webdesignerer\", \"webdesigner\", \"vue\", \"mobileappdev\", \"unity\", \"ui\", \"angular\", \"net\", \"dbdev\", \"webscraping\", \"graphicdesign\", \"se\", \"devops\", \"web\", \"db\", \"php\", \"graphicdesigner\", \"androiddevloper\", \"woocommerce\", \"gamedev\", \"unittesting\", \"flashdevloper\", \"gamedesigner\", \"designing\", \"webanalyst\", \"java\", \"cloudengr\", \"pm\", \"tableau\", \"wix\", \"testing\", \"fullstack\", \"ios\", \"graphicsdesign\", \"wordpress\", \"webdevloper\", \"backend\", \"seo\", \"mysql\", \"html\", \"python\", \"qa\", \"flutter\", \"graphicsdesign\", \"fullstack\", \"iphoneappdev\", \"qc\", \"tableau\", \"testing\", \"wix\", \"pm\", \"cloudengr\", \"html\", \"mongodb\", \"devops\", \"softwaredev\", \"webdesignerer\", \"spring\", \"js\", \"mobileappdev\", \"mobile\", \"website\", \"ui\", \"design\", \"unittesting\", \"gamedev\", \"flashdevloper\", \"gamedesigner\", \"designing\", \"webanalyst\", \"linux\", \"designer\", \"mysql\", \"se\", \"wordpress\", \"webdevloper\", \"backend\", \"php\", \"ios\", \"seo\", \"qa\", \"reactnative\", \"wordpress\", \"java\", \"designer\", \"linux\", \"laravel\", \"appdeveloper\", \"spring\", \"gamedevloper\", \"ux\", \"developer\", \"jquery\", \"software\", \"ml\", \"excel\", \"appdevloper\", \"softwaretesting\", \"js\", \"gamedev\", \"unittesting\", \"flashdevloper\", \"gamedesigner\", \"designing\", \"webanalyst\", \"graphicdesigner\", \"wix\", \"cloudengr\", \"pm\", \"tableau\", \"python\", \"ios\", \"se\", \"graphicsdesign\", \"webdevloper\", \"fullstack\", \"backend\", \"mysql\", \"seo\", \"php\", \"photoshop\", \"webdevloper\", \"ux\", \"end\", \"back\", \"resizing\", \"image\", \"adobe\", \"word\", \"mvc\", \"developer\", \"db\", \"js\", \"graphicdesigner\", \"software\", \"android\", \"java\", \"woocommerce\", \"webdesignerer\", \"backend\", \"seo\", \"unittesting\", \"gamedesigner\", \"gamedev\", \"flashdevloper\", \"designing\", \"webanalyst\", \"tableau\", \"cloudengr\", \"pm\", \"se\", \"wordpress\", \"ios\", \"graphicsdesign\", \"php\", \"mysql\", \"fullstack\", \"ui\", \"qa\", \"dataanalyst\", \"django\", \"scrum\", \"illustration\", \"mobile\", \"website\", \"backend\", \"webdesignerer\", \"softwaretester\", \"reactjs\", \"php\", \"design\", \"woocommerce\", \"python\", \"ui\", \"dbdev\", \"laravel\", \"gamedev\", \"gamedesigner\", \"flashdevloper\", \"designing\", \"unittesting\", \"graphicsdesign\", \"webanalyst\", \"cloudengr\", \"pm\", \"testing\", \"wix\", \"tableau\", \"linux\", \"seo\", \"webdevloper\", \"se\", \"wordpress\", \"ios\", \"fullstack\", \"qa\", \"mysql\", \"ux\", \"html\", \"graphicdesigner\", \"jquery\", \"mysql\", \"seo\", \"shopify\", \"brand\", \"backennd\", \"appdevloper\", \"design\", \"android\", \"gamedevloper\", \"web\", \"software\", \"appdeveloper\", \"ios\", \"graphicdesigner\", \"devops\", \"graphicdesign\", \"reactjs\", \"java\", \"jquery\", \"se\", \"php\", \"gamedev\", \"unittesting\", \"flashdevloper\", \"gamedesigner\", \"designing\", \"webanalyst\", \"pm\", \"wix\", \"cloudengr\", \"python\", \"qa\", \"wordpress\", \"graphicsdesign\", \"webdevloper\", \"backend\", \"html\", \"fullstack\", \"woocommerce\", \"ecommerce\", \"excel\", \"androiddevloper\", \"softwaretester\", \"ml\", \"ios\", \"se\", \"fullstack\", \"appdevloper\", \"django\", \"jquery\", \"website\", \"java\", \"mysql\", \"php\", \"laravel\", \"gamedesigner\", \"flashdevloper\", \"gamedev\", \"unittesting\", \"designing\", \"backend\", \"webanalyst\", \"graphicdesigner\", \"pm\", \"testing\", \"cloudengr\", \"wix\", \"tableau\", \"linux\", \"seo\", \"graphicsdesign\", \"wordpress\", \"webdevloper\", \"qa\", \"ui\", \"ux\", \"woocommerce\", \"html\", \"frontend\", \"python\", \"qc\", \"frontend\", \"ai\", \"nodejs\", \"css\", \"html\", \"webanalyst\", \"android\", \"mobile\", \"web\", \"mysql\", \"php\", \"backend\", \"graphicdesign\", \"ml\", \"laravel\", \"website\", \"design\", \"dbdev\", \"mobileappdev\", \"wordpress\", \"unittesting\", \"gamedev\", \"flashdevloper\", \"gamedesigner\", \"designing\", \"wix\", \"pm\", \"cloudengr\", \"tableau\", \"testing\", \"qc\", \"ux\", \"webdevloper\", \"se\", \"graphicsdesign\", \"ios\", \"fullstack\", \"seo\", \"woocommerce\", \"python\", \"softwaretesting\", \"dl\", \"mongodb\", \"ios\", \"python\", \"androiddevloper\", \"qc\", \"nodejs\", \"angular\", \"laravel\", \"reactnative\", \"graphicdesigner\", \"net\", \"graphicsdesign\", \"unittesting\", \"flashdevloper\", \"gamedev\", \"gamedesigner\", \"designing\", \"webanalyst\", \"wix\", \"testing\", \"cloudengr\", \"tableau\", \"pm\", \"linux\", \"designer\", \"backennd\", \"brand\", \"shopify\", \"qa\", \"wordpress\", \"php\", \"webdevloper\", \"se\", \"fullstack\", \"seo\", \"backend\", \"mysql\", \"html\", \"ui\", \"ux\", \"frontend\", \"java\", \"woocommerce\", \"appdevloper\", \"jquery\", \"reactjs\", \"designing\", \"gamedesigner\", \"flashdevloper\", \"unittesting\", \"gamedev\", \"woocommerce\", \"softwaredev\", \"appdeveloper\", \"python\", \"net\", \"seo\", \"se\", \"backend\", \"wordpress\", \"software\", \"js\", \"ml\", \"excel\", \"webdevloper\", \"ecommerce\", \"android\", \"angular\", \"webanalyst\", \"pm\", \"cloudengr\", \"tableau\", \"testing\", \"wix\", \"qa\", \"graphicsdesign\", \"ios\", \"php\", \"fullstack\", \"mysql\"], \"Freq\": [80.0, 112.0, 58.0, 58.0, 42.0, 32.0, 28.0, 17.0, 28.0, 30.0, 26.0, 27.0, 33.0, 21.0, 15.0, 20.0, 32.0, 20.0, 20.0, 15.0, 14.0, 17.0, 16.0, 14.0, 19.0, 8.0, 12.0, 11.0, 19.0, 11.0, 5.335943098994107, 3.243395457190834, 6.382113735956768, 2.1971113569308383, 19.983934555427755, 7.428621639968387, 6.382316200280911, 4.28973785052102, 1.1508665524458366, 3.7714729005179644, 47.187932198476965, 2.1971808401886097, 1.1509420211527792, 1.1509028554962453, 8.475137351087621, 3.2438342166387835, 2.197437173555294, 3.2441311469650653, 0.10470130726687168, 0.1046969564308572, 0.10469553326019826, 0.10468655508644129, 0.1046683466344106, 0.10469377666098494, 1.1515227398408574, 0.10469621638211456, 0.10469019027092441, 0.104689580340642, 0.10468940142775916, 0.10468897854276336, 1.1522317553307382, 1.1522806798717906, 0.10734389120841244, 0.10690143151674952, 0.10673213113516188, 0.105970677905802, 0.10578973192202235, 0.10572261519374668, 0.10552973084123944, 0.10550823689808755, 0.10549846988116533, 4.011199345475574, 60.19067968007043, 18.95514318097407, 1.6516129625971336, 12.662957809471742, 0.8651769454121894, 0.8651660191825437, 0.8651563069784142, 0.8651437194506937, 0.8651292789366589, 10.303679405697936, 1.6516349428485848, 2.438215109589557, 0.8651549012646585, 4.011299534528699, 0.8652006508577951, 3.22487144045765, 0.8653867801382512, 0.865380134945952, 0.8654121468819317, 2.4389586043741045, 0.8654809629598758, 0.07870611285076434, 0.07870318960511351, 0.07870117687859983, 0.0786983814251086, 0.07868866123396909, 0.07870250272225567, 0.07869768655524077, 0.07868664052044543, 0.865991620429634, 0.08251384797323022, 0.08036551001717913, 0.07994768556435977, 0.0796944254650642, 0.07959338978888113, 0.07948769768588267, 0.07939569531798125, 24.29892340069881, 5.9050834899912985, 40.75599991325555, 10.745817503283162, 1.065056885853093, 1.064896974337417, 5.9053737692528925, 2.0329635398687156, 1.0650859606741252, 1.0648778646768193, 8.809888364916514, 1.065084905539491, 3.0014697448309424, 1.0651124562771626, 1.0650336728911403, 1.0650030739867475, 3.001256607634829, 1.0649684890181812, 2.033275625246084, 0.09688345863078346, 0.09687518608215817, 0.09687417491146703, 0.09687182284051157, 0.09684891029883637, 0.09686056807107982, 1.065410707667104, 0.09687780926409603, 0.09687378656330305, 0.0968682397791495, 0.09686486921017906, 1.0654835119568657, 1.066532198546106, 0.10127074507651934, 0.09951658374711664, 0.09834513517411361, 0.09809817505111366, 0.0980329398868878, 0.09790367123954727, 0.09780255417043383, 0.09779763753613128, 4.488929897634872, 43.90137278525838, 16.531029589992997, 1.2045371532463256, 1.204497971584568, 1.2044914603463166, 1.2044635876773113, 1.2043722018772938, 1.2042744190712749, 1.2041933141737593, 2.2994460730755293, 2.299077102907958, 5.583589676926778, 6.678342669734701, 1.2045121363835707, 3.394241103351461, 3.394168680104947, 2.2998662192911103, 1.204597125177587, 3.395077968815122, 2.3001390059041626, 0.10956115766781203, 0.10955352552560743, 0.109552540272451, 0.10954810663324702, 0.10952574567030521, 0.10954833509774706, 0.10955618856493607, 0.10955539607870154, 0.10955366831591996, 4.493708004188793, 2.301633849127951, 1.2057307660268055, 0.1133158217962073, 0.11081614172461633, 0.11077014896495121, 0.11069996752634394, 0.11047151730533118, 0.11044550804990429, 2.94023048088861, 4.340443601713306, 1.5400746984455336, 1.5400544802475369, 5.741742300703452, 5.741696087679459, 16.941828099867813, 5.740588258798755, 2.940289530863711, 5.741100025249633, 11.341471978678573, 5.741736310126267, 7.141265649355226, 5.740912177865072, 7.14175773248107, 1.5404206542779204, 1.5406540728389184, 0.14011195165475826, 0.1401049448189446, 0.14009696183997372, 0.1400756337805791, 0.14007945812226366, 7.144595554472893, 0.14010273846797275, 0.14011974742819214, 0.14010379484207441, 0.1401034204310004, 0.14009895424176042, 0.14009559791391837, 0.14010178906846366, 1.5414953210349265, 2.9431391200607178, 0.14679159230519123, 0.14335984737539284, 0.14160216121662098, 0.14155410288090678, 0.14143771452418544, 0.14142407526363215, 0.14138568475672186, 0.14132553829204672, 0.14109631848380713, 0.140981828926104, 21.672247689476947, 17.56314668855754, 1.1300064737148476, 1.1299343744835182, 1.129839211809314, 7.292432911497652, 7.293596472579626, 7.293339658026533, 1.1298313162162577, 1.1298434712739889, 1.1299747874532402, 1.1298434712739889, 9.347506183329186, 4.21143827586665, 1.1300175898787557, 1.130006265936083, 2.157452725867997, 2.1574591670097005, 1.1302992339942228, 8.324179976300048, 2.1579642771865357, 0.10278610954429221, 0.10278421356306489, 0.10278283053566276, 0.10278195396899945, 0.1027534947713304, 0.10277574657840588, 0.1027862458991065, 0.10278126570184157, 0.10278135011196471, 1.130513142232418, 1.1307449194443717, 1.1318517569235993, 0.6923298041042434, 0.10468726576147235, 0.10388682404304934, 0.10377927256000351, 0.10377734411334422, 0.10367292879102713, 7.4355043629433855, 2.282069756365203, 6.69889425357933, 2.282134335156477, 1.5459323991389133, 13.324756794427197, 30.257051181932717, 7.435483839272734, 3.7544902596506855, 0.8098476780507172, 1.5463113793331853, 0.8099431308120663, 1.5462625471512903, 2.2827884386943964, 2.2828542559830374, 0.8100361065786815, 0.07366519860562737, 0.07366061505956861, 0.07365980229567158, 0.07365682769038857, 0.07365033663722455, 1.5467030983575167, 0.07366431396465101, 0.8101423519599421, 0.07366519860562737, 0.07366480604619412, 0.07366381082509571, 0.07365856379830468, 0.07365693274150452, 0.07366571833220098, 0.8105153165955749, 1.5480282905401017, 0.07524584192814796, 0.07497031496705503, 0.07434841236067508, 0.07428445834709047, 0.07427624224402253, 0.07424842028531606, 0.07423352514287662, 0.07420309349328989, 0.07415219346311268, 0.07413756924197225, 16.153994481435532, 2.996818518012031, 10.306177595373608, 1.534881833391534, 10.306549863718633, 0.8040389406518454, 5.189701319966954, 2.266390520426464, 0.8041013615800341, 6.652220021141799, 6.651827611412435, 6.652075558798954, 1.1660843176963267, 0.804173505935145, 2.2661516019363734, 1.5353098378087384, 2.26646483518937, 0.8041704673642318, 0.8041803644237777, 2.9983569030572363, 0.07314910199154775, 0.07314762068822755, 0.07314678508122643, 0.07314185825553143, 0.07312546625065852, 0.07314432709439841, 0.0731435294695337, 0.07314097924037438, 0.07314010022521736, 0.07313924291413826, 0.8044961153498168, 0.8047223586583837, 1.5364304627615326, 2.269624080775997, 0.0755315532022694, 0.0742326618052202, 0.07401203985284274, 0.07391993859805535, 0.0737572339776916, 0.0737099733479521, 4.588327407184955, 1.6281037951826223, 1.628114222602852, 16.430466856066776, 7.548914654778469, 4.588814682187429, 6.068875757961606, 4.588928225207708, 3.1086920349795166, 3.108734075689649, 1.6283283985040755, 3.1090323330111365, 1.6286091112772403, 10.512481496323936, 0.14812960423236293, 0.14810859422195988, 0.14810481841999182, 0.14810024607897845, 0.14807960847644072, 0.14810523220650887, 0.1481089562851623, 0.14810716665847606, 0.1481082838820721, 0.14810550116774493, 0.148103390856508, 0.14810293569133925, 0.14807862573346273, 0.14809645993234746, 0.14808808075537727, 0.14806811555592975, 1.6293721336146751, 3.111650443061797, 1.6299655034801208, 1.6310478034941092, 0.15408596804329, 0.14994444086214287, 0.14965825576229014, 0.14960373938866917, 0.14959815327068904, 0.1495238475568903, 0.14939131173548012, 0.1492791549000345, 0.14920999048371006, 0.14911725058057687, 0.14911523337130628, 0.1490188211128343, 6.514518575501715, 6.514592708537348, 0.6456901297734672, 0.6455821284372637, 0.6455756909999881, 0.6455629801365776, 0.6455563376853761, 7.688310883655514, 0.6455929941753403, 1.2325711128198442, 4.753964602406457, 1.8194715311864034, 4.754092203073984, 19.42770744128226, 4.754324442849328, 8.275998883520097, 0.6457317065976548, 1.819614876923445, 0.645673277628752, 0.6456465848155901, 7.6892195053754335, 0.6458099399118067, 1.2327940039601637, 0.645821994730654, 0.05872670037675946, 0.05872894015390073, 0.05872926817618229, 0.058727740822433774, 0.058727792075915275, 0.05872401981967734, 0.6461341899371281, 0.06058095395558494, 0.05952652633151234, 0.05939588633253317, 0.05934722115185495, 0.05930635675106006], \"Total\": [80.0, 112.0, 58.0, 58.0, 42.0, 32.0, 28.0, 17.0, 28.0, 30.0, 26.0, 27.0, 33.0, 21.0, 15.0, 20.0, 32.0, 20.0, 20.0, 15.0, 14.0, 17.0, 16.0, 14.0, 19.0, 8.0, 12.0, 11.0, 19.0, 11.0, 6.218642615216509, 4.125572720772712, 8.783251108459346, 3.0790628345188726, 30.23266869791661, 11.859622246156775, 10.507208530954763, 7.303761333774594, 2.0325077806636926, 6.774626825468532, 112.444865036355, 6.466835096791051, 3.79112350807703, 4.222612827860149, 32.88682403321048, 19.47102580274691, 14.148192153487594, 20.95124528310778, 1.5732071360635373, 1.5732015987677972, 1.5731904694218914, 1.5731866150430138, 1.573106333527222, 1.717218854798211, 19.497262123988595, 1.7727981176246592, 1.772786917643438, 1.7727810087021412, 1.772788553707505, 1.7727838175940334, 28.28029206701609, 42.882122525307096, 80.54440362942118, 58.981364379783706, 58.16589220955234, 33.82719777537821, 27.47595471093697, 32.1379727904264, 21.45178962417608, 20.68248419960578, 28.289911172398778, 4.9200197430279395, 80.54440362942118, 28.28029206701609, 2.559610815081423, 20.227407203617698, 1.7727810087021412, 1.7727838175940334, 1.772788553707505, 1.772786917643438, 1.7727981176246592, 21.45178962417608, 4.03993819272611, 6.466835096791051, 2.3600056801703713, 11.616537140379629, 2.7411289089831574, 13.306811429491308, 8.783251108459346, 9.568205299149863, 9.573410741380018, 30.23266869791661, 16.75977660720043, 1.5732015987677972, 1.5732071360635373, 1.5731904694218914, 1.5731866150430138, 1.573106333527222, 1.717218854798211, 1.9543321129278401, 1.9543355165715637, 32.1379727904264, 112.444865036355, 58.981364379783706, 58.16589220955234, 33.82719777537821, 32.88682403321048, 42.882122525307096, 27.47595471093697, 28.289911172398778, 8.276424093502118, 58.981364379783706, 19.497262123988595, 1.9543355165715637, 1.9543321129278401, 14.087370162310142, 5.124438297192917, 2.7411289089831574, 2.9817192989912695, 26.85832915736525, 4.144493459576732, 12.850625879183752, 4.663905020922631, 4.745692888107011, 4.750881430751002, 14.764971440945343, 6.395425150551797, 13.306811429491308, 1.5732071360635373, 1.5732015987677972, 1.5731904694218914, 1.5731866150430138, 1.573106333527222, 1.717218854798211, 19.47102580274691, 1.772788553707505, 1.7727981176246592, 1.772786917643438, 1.7727810087021412, 20.68248419960578, 42.882122525307096, 112.444865036355, 80.54440362942118, 58.16589220955234, 28.28029206701609, 33.82719777537821, 32.1379727904264, 27.47595471093697, 32.88682403321048, 5.366284100687019, 58.16589220955234, 26.85832915736525, 2.081067277897771, 2.08106498351585, 2.081062747781106, 2.081056362614635, 2.0810481307699007, 2.081043157903512, 2.0810283561291194, 4.144493459576732, 4.222612827860149, 13.306811429491308, 19.47102580274691, 4.663905020922631, 17.755934883339965, 19.497262123988595, 20.95124528310778, 11.616537140379629, 33.82719777537821, 27.47595471093697, 1.5732015987677972, 1.5731866150430138, 1.5732071360635373, 1.5731904694218914, 1.573106333527222, 1.717218854798211, 1.7727810087021412, 1.7727981176246592, 1.772786917643438, 112.444865036355, 58.981364379783706, 42.882122525307096, 80.54440362942118, 32.88682403321048, 32.1379727904264, 28.28029206701609, 30.23266869791661, 28.289911172398778, 3.786732212932764, 5.923569391120003, 2.386331541115657, 2.386326824897763, 9.568205299149863, 9.573410741380018, 33.82719777537821, 11.616537140379629, 5.996019320167264, 15.101470460578044, 32.88682403321048, 16.75977660720043, 20.95124528310778, 20.68248419960578, 30.23266869791661, 7.303761333774594, 14.087370162310142, 1.5732071360635373, 1.5731866150430138, 1.5731904694218914, 1.573106333527222, 1.5732015987677972, 80.54440362942118, 1.717218854798211, 1.7727981176246592, 1.772786917643438, 1.7727838175940334, 1.772788553707505, 1.7727810087021412, 1.9543321129278401, 27.47595471093697, 58.16589220955234, 112.444865036355, 58.981364379783706, 42.882122525307096, 28.28029206701609, 28.289911172398778, 32.1379727904264, 26.85832915736525, 21.45178962417608, 19.47102580274691, 12.850625879183752, 32.1379727904264, 27.47595471093697, 2.0133566550393214, 2.013354813899821, 2.0133452321453302, 14.764971440945343, 16.75977660720043, 17.755934883339965, 2.9817192989912695, 3.79112350807703, 4.663905020922631, 5.124438297192917, 42.882122525307096, 19.47102580274691, 6.466835096791051, 6.774626825468532, 15.101470460578044, 19.497262123988595, 12.850625879183752, 112.444865036355, 32.88682403321048, 1.5732071360635373, 1.5732015987677972, 1.5731904694218914, 1.5731866150430138, 1.573106333527222, 1.717218854798211, 1.772786917643438, 1.772788553707505, 1.7727981176246592, 20.68248419960578, 28.289911172398778, 58.981364379783706, 80.54440362942118, 58.16589220955234, 33.82719777537821, 21.45178962417608, 28.28029206701609, 20.95124528310778, 8.937388713934448, 4.750881430751002, 14.148192153487594, 5.996019320167264, 4.745692888107011, 42.882122525307096, 112.444865036355, 28.28029206701609, 14.764971440945343, 5.923569391120003, 12.850625879183752, 9.573410741380018, 19.497262123988595, 32.1379727904264, 32.88682403321048, 14.087370162310142, 1.5731866150430138, 1.5731904694218914, 1.5732071360635373, 1.5732015987677972, 1.573106333527222, 33.82719777537821, 1.717218854798211, 19.47102580274691, 1.772786917643438, 1.7727838175940334, 1.7727981176246592, 1.772788553707505, 1.7727810087021412, 1.9543321129278401, 27.47595471093697, 80.54440362942118, 58.981364379783706, 58.16589220955234, 28.289911172398778, 30.23266869791661, 26.85832915736525, 20.95124528310778, 21.45178962417608, 17.073132771644733, 20.68248419960578, 20.227407203617698, 17.073132771644733, 3.9109622429396085, 15.664412189619283, 2.4485086879127826, 21.45178962417608, 1.717218854798211, 17.755934883339965, 9.568205299149863, 3.79112350807703, 32.1379727904264, 32.88682403321048, 33.82719777537821, 6.774626825468532, 4.745692888107011, 14.087370162310142, 9.573410741380018, 16.75977660720043, 7.303761333774594, 8.783251108459346, 58.981364379783706, 1.5732015987677972, 1.5732071360635373, 1.5731904694218914, 1.5731866150430138, 1.573106333527222, 1.772788553707505, 1.772786917643438, 1.7727981176246592, 1.7727810087021412, 1.7727838175940334, 20.227407203617698, 26.85832915736525, 58.16589220955234, 112.444865036355, 80.54440362942118, 42.882122525307096, 28.28029206701609, 27.47595471093697, 20.95124528310778, 20.68248419960578, 6.395425150551797, 2.4663273279773077, 4.03993819272611, 42.882122525307096, 20.68248419960578, 14.148192153487594, 20.227407203617698, 15.664412189619283, 11.859622246156775, 14.087370162310142, 8.276424093502118, 19.47102580274691, 10.507208530954763, 80.54440362942118, 1.5732015987677972, 1.5731904694218914, 1.5732071360635373, 1.5731866150430138, 1.573106333527222, 1.717218854798211, 1.772788553707505, 1.7727838175940334, 1.7727981176246592, 1.7727810087021412, 1.772786917643438, 1.9543321129278401, 1.9543355165715637, 2.0133452321453302, 2.013354813899821, 2.0133566550393214, 28.289911172398778, 58.981364379783706, 32.88682403321048, 58.16589220955234, 112.444865036355, 28.28029206701609, 27.47595471093697, 33.82719777537821, 32.1379727904264, 21.45178962417608, 30.23266869791661, 26.85832915736525, 17.073132771644733, 19.497262123988595, 20.95124528310778, 14.764971440945343, 12.850625879183752, 15.101470460578044, 1.573106333527222, 1.5731866150430138, 1.5731904694218914, 1.5732015987677972, 1.5732071360635373, 20.95124528310778, 2.3600056801703713, 5.124438297192917, 20.68248419960578, 10.507208530954763, 27.47595471093697, 112.444865036355, 33.82719777537821, 58.981364379783706, 4.663905020922631, 13.306811429491308, 4.745692888107011, 4.750881430751002, 58.16589220955234, 8.937388713934448, 17.755934883339965, 11.859622246156775, 1.717218854798211, 1.772786917643438, 1.7727981176246592, 1.7727810087021412, 1.7727838175940334, 1.772788553707505, 28.289911172398778, 80.54440362942118, 42.882122525307096, 32.88682403321048, 28.28029206701609, 32.1379727904264], \"Category\": [\"Default\", \"Default\", \"Default\", \"Default\", \"Default\", \"Default\", \"Default\", \"Default\", \"Default\", \"Default\", \"Default\", \"Default\", \"Default\", \"Default\", \"Default\", \"Default\", \"Default\", \"Default\", \"Default\", \"Default\", \"Default\", \"Default\", \"Default\", \"Default\", \"Default\", \"Default\", \"Default\", \"Default\", \"Default\", \"Default\", \"Topic1\", \"Topic1\", \"Topic1\", \"Topic1\", \"Topic1\", \"Topic1\", \"Topic1\", \"Topic1\", \"Topic1\", \"Topic1\", \"Topic1\", \"Topic1\", \"Topic1\", \"Topic1\", \"Topic1\", \"Topic1\", \"Topic1\", \"Topic1\", \"Topic1\", \"Topic1\", \"Topic1\", \"Topic1\", \"Topic1\", \"Topic1\", \"Topic1\", \"Topic1\", \"Topic1\", \"Topic1\", \"Topic1\", \"Topic1\", \"Topic1\", \"Topic1\", \"Topic1\", \"Topic1\", \"Topic1\", \"Topic1\", \"Topic1\", \"Topic1\", \"Topic1\", \"Topic1\", \"Topic1\", \"Topic2\", \"Topic2\", \"Topic2\", \"Topic2\", \"Topic2\", \"Topic2\", \"Topic2\", \"Topic2\", \"Topic2\", \"Topic2\", \"Topic2\", \"Topic2\", \"Topic2\", \"Topic2\", \"Topic2\", \"Topic2\", \"Topic2\", \"Topic2\", \"Topic2\", \"Topic2\", \"Topic2\", \"Topic2\", \"Topic2\", \"Topic2\", \"Topic2\", \"Topic2\", \"Topic2\", \"Topic2\", \"Topic2\", \"Topic2\", \"Topic2\", \"Topic2\", \"Topic2\", \"Topic2\", \"Topic2\", \"Topic2\", \"Topic2\", \"Topic2\", \"Topic3\", \"Topic3\", \"Topic3\", \"Topic3\", \"Topic3\", \"Topic3\", \"Topic3\", \"Topic3\", \"Topic3\", \"Topic3\", \"Topic3\", \"Topic3\", \"Topic3\", \"Topic3\", \"Topic3\", \"Topic3\", \"Topic3\", \"Topic3\", \"Topic3\", \"Topic3\", \"Topic3\", \"Topic3\", \"Topic3\", \"Topic3\", \"Topic3\", \"Topic3\", \"Topic3\", \"Topic3\", \"Topic3\", \"Topic3\", \"Topic3\", \"Topic3\", \"Topic3\", \"Topic3\", \"Topic3\", \"Topic3\", \"Topic3\", \"Topic3\", \"Topic3\", \"Topic3\", \"Topic4\", \"Topic4\", \"Topic4\", \"Topic4\", \"Topic4\", \"Topic4\", \"Topic4\", \"Topic4\", \"Topic4\", \"Topic4\", \"Topic4\", \"Topic4\", \"Topic4\", \"Topic4\", \"Topic4\", \"Topic4\", \"Topic4\", \"Topic4\", \"Topic4\", \"Topic4\", \"Topic4\", \"Topic4\", \"Topic4\", \"Topic4\", \"Topic4\", \"Topic4\", \"Topic4\", \"Topic4\", \"Topic4\", \"Topic4\", \"Topic4\", \"Topic4\", \"Topic4\", \"Topic4\", \"Topic4\", \"Topic4\", \"Topic4\", \"Topic4\", \"Topic4\", \"Topic5\", \"Topic5\", \"Topic5\", \"Topic5\", \"Topic5\", \"Topic5\", \"Topic5\", \"Topic5\", \"Topic5\", \"Topic5\", \"Topic5\", \"Topic5\", \"Topic5\", \"Topic5\", \"Topic5\", \"Topic5\", \"Topic5\", \"Topic5\", \"Topic5\", \"Topic5\", \"Topic5\", \"Topic5\", \"Topic5\", \"Topic5\", \"Topic5\", \"Topic5\", \"Topic5\", \"Topic5\", \"Topic5\", \"Topic5\", \"Topic5\", \"Topic5\", \"Topic5\", \"Topic5\", \"Topic5\", \"Topic5\", \"Topic5\", \"Topic5\", \"Topic5\", \"Topic5\", \"Topic5\", \"Topic5\", \"Topic6\", \"Topic6\", \"Topic6\", \"Topic6\", \"Topic6\", \"Topic6\", \"Topic6\", \"Topic6\", \"Topic6\", \"Topic6\", \"Topic6\", \"Topic6\", \"Topic6\", \"Topic6\", \"Topic6\", \"Topic6\", \"Topic6\", \"Topic6\", \"Topic6\", \"Topic6\", \"Topic6\", \"Topic6\", \"Topic6\", \"Topic6\", \"Topic6\", \"Topic6\", \"Topic6\", \"Topic6\", \"Topic6\", \"Topic6\", \"Topic6\", \"Topic6\", \"Topic6\", \"Topic6\", \"Topic6\", \"Topic6\", \"Topic6\", \"Topic6\", \"Topic6\", \"Topic7\", \"Topic7\", \"Topic7\", \"Topic7\", \"Topic7\", \"Topic7\", \"Topic7\", \"Topic7\", \"Topic7\", \"Topic7\", \"Topic7\", \"Topic7\", \"Topic7\", \"Topic7\", \"Topic7\", \"Topic7\", \"Topic7\", \"Topic7\", \"Topic7\", \"Topic7\", \"Topic7\", \"Topic7\", \"Topic7\", \"Topic7\", \"Topic7\", \"Topic7\", \"Topic7\", \"Topic7\", \"Topic7\", \"Topic7\", \"Topic7\", \"Topic7\", \"Topic7\", \"Topic7\", \"Topic7\", \"Topic7\", \"Topic7\", \"Topic7\", \"Topic7\", \"Topic7\", \"Topic7\", \"Topic7\", \"Topic8\", \"Topic8\", \"Topic8\", \"Topic8\", \"Topic8\", \"Topic8\", \"Topic8\", \"Topic8\", \"Topic8\", \"Topic8\", \"Topic8\", \"Topic8\", \"Topic8\", \"Topic8\", \"Topic8\", \"Topic8\", \"Topic8\", \"Topic8\", \"Topic8\", \"Topic8\", \"Topic8\", \"Topic8\", \"Topic8\", \"Topic8\", \"Topic8\", \"Topic8\", \"Topic8\", \"Topic8\", \"Topic8\", \"Topic8\", \"Topic8\", \"Topic8\", \"Topic8\", \"Topic8\", \"Topic8\", \"Topic8\", \"Topic8\", \"Topic8\", \"Topic8\", \"Topic8\", \"Topic9\", \"Topic9\", \"Topic9\", \"Topic9\", \"Topic9\", \"Topic9\", \"Topic9\", \"Topic9\", \"Topic9\", \"Topic9\", \"Topic9\", \"Topic9\", \"Topic9\", \"Topic9\", \"Topic9\", \"Topic9\", \"Topic9\", \"Topic9\", \"Topic9\", \"Topic9\", \"Topic9\", \"Topic9\", \"Topic9\", \"Topic9\", \"Topic9\", \"Topic9\", \"Topic9\", \"Topic9\", \"Topic9\", \"Topic9\", \"Topic9\", \"Topic9\", \"Topic9\", \"Topic9\", \"Topic9\", \"Topic9\", \"Topic9\", \"Topic9\", \"Topic9\", \"Topic9\", \"Topic9\", \"Topic9\", \"Topic9\", \"Topic9\", \"Topic9\", \"Topic9\", \"Topic10\", \"Topic10\", \"Topic10\", \"Topic10\", \"Topic10\", \"Topic10\", \"Topic10\", \"Topic10\", \"Topic10\", \"Topic10\", \"Topic10\", \"Topic10\", \"Topic10\", \"Topic10\", \"Topic10\", \"Topic10\", \"Topic10\", \"Topic10\", \"Topic10\", \"Topic10\", \"Topic10\", \"Topic10\", \"Topic10\", \"Topic10\", \"Topic10\", \"Topic10\", \"Topic10\", \"Topic10\", \"Topic10\", \"Topic10\", \"Topic10\", \"Topic10\", \"Topic10\", \"Topic10\", \"Topic10\", \"Topic10\"], \"logprob\": [30.0, 29.0, 28.0, 27.0, 26.0, 25.0, 24.0, 23.0, 22.0, 21.0, 20.0, 19.0, 18.0, 17.0, 16.0, 15.0, 14.0, 13.0, 12.0, 11.0, 10.0, 9.0, 8.0, 7.0, 6.0, 5.0, 4.0, 3.0, 2.0, 1.0, -3.2651, -3.763, -3.0861, -4.1525, -1.9447, -2.9343, -3.0861, -3.4834, -4.7991, -3.6121, -1.0855, -4.1524, -4.799, -4.799, -2.8025, -3.7628, -4.1523, -3.7627, -7.1962, -7.1963, -7.1963, -7.1964, -7.1966, -7.1963, -4.7985, -7.1963, -7.1963, -7.1964, -7.1964, -7.1964, -4.7979, -4.7979, -7.1713, -7.1754, -7.177, -7.1842, -7.1859, -7.1865, -7.1884, -7.1886, -7.1887, -3.5325, -0.824, -1.9795, -4.4198, -2.3829, -5.0664, -5.0664, -5.0664, -5.0664, -5.0664, -2.5891, -4.4198, -4.0303, -5.0664, -3.5324, -5.0663, -3.7507, -5.0661, -5.0661, -5.0661, -4.03, -5.066, -7.4636, -7.4636, -7.4637, -7.4637, -7.4638, -7.4636, -7.4637, -7.4638, -5.0654, -7.4163, -7.4427, -7.4479, -7.4511, -7.4524, -7.4537, -7.4549, -1.6449, -3.0595, -1.1277, -2.4608, -4.7723, -4.7725, -3.0595, -4.1259, -4.7723, -4.7725, -2.6595, -4.7723, -3.7362, -4.7723, -4.7723, -4.7724, -3.7363, -4.7724, -4.1257, -7.1696, -7.1697, -7.1697, -7.1697, -7.17, -7.1698, -4.772, -7.1697, -7.1697, -7.1698, -7.1698, -4.7719, -4.7709, -7.1253, -7.1428, -7.1546, -7.1571, -7.1578, -7.1591, -7.1602, -7.1602, -3.3078, -1.0274, -2.0041, -4.6233, -4.6233, -4.6233, -4.6233, -4.6234, -4.6235, -4.6236, -3.9767, -3.9769, -3.0896, -2.9105, -4.6233, -3.5873, -3.5873, -3.9765, -4.6232, -3.5871, -3.9764, -7.0207, -7.0207, -7.0207, -7.0208, -7.021, -7.0208, -7.0207, -7.0207, -7.0207, -3.3067, -3.9758, -4.6223, -6.987, -7.0093, -7.0097, -7.0103, -7.0124, -7.0126, -3.6653, -3.2758, -4.3119, -4.3119, -2.996, -2.996, -1.914, -2.9962, -3.6652, -2.9961, -2.3153, -2.996, -2.7779, -2.9961, -2.7778, -4.3117, -4.3115, -6.7091, -6.7091, -6.7092, -6.7093, -6.7093, -2.7774, -6.7091, -6.709, -6.7091, -6.7091, -6.7091, -6.7092, -6.7091, -4.311, -3.6643, -6.6625, -6.6861, -6.6985, -6.6988, -6.6996, -6.6997, -6.7, -6.7004, -6.7021, -6.7029, -1.6384, -1.8487, -4.5923, -4.5923, -4.5924, -2.7276, -2.7275, -2.7275, -4.5924, -4.5924, -4.5923, -4.5924, -2.4794, -3.2767, -4.5922, -4.5923, -3.9455, -3.9455, -4.592, -2.5953, -3.9453, -6.9896, -6.9896, -6.9896, -6.9896, -6.9899, -6.9897, -6.9896, -6.9896, -6.9896, -4.5918, -4.5916, -4.5906, -5.0822, -6.9713, -6.9789, -6.98, -6.98, -6.981, -2.5475, -3.7287, -2.6518, -3.7286, -4.1181, -1.9641, -1.144, -2.5475, -3.2308, -4.7647, -4.1179, -4.7645, -4.1179, -3.7283, -3.7283, -4.7644, -7.162, -7.162, -7.162, -7.1621, -7.1622, -4.1176, -7.162, -4.7643, -7.162, -7.162, -7.162, -7.1621, -7.1621, -7.162, -4.7638, -4.1168, -7.1407, -7.1444, -7.1527, -7.1536, -7.1537, -7.1541, -7.1543, -7.1547, -7.1554, -7.1556, -1.7528, -3.4374, -2.2022, -4.1065, -2.2022, -4.7531, -2.8883, -3.7168, -4.753, -2.64, -2.6401, -2.64, -4.3813, -4.7529, -3.7169, -4.1062, -3.7167, -4.7529, -4.7529, -3.4369, -7.1502, -7.1502, -7.1502, -7.1503, -7.1505, -7.1503, -7.1503, -7.1503, -7.1503, -7.1503, -4.7525, -4.7522, -4.1055, -3.7153, -7.1181, -7.1355, -7.1385, -7.1397, -7.1419, -7.1426, -2.9635, -3.9996, -3.9996, -1.6879, -2.4657, -2.9634, -2.6839, -2.9634, -3.3529, -3.3528, -3.9995, -3.3528, -3.9993, -2.1345, -6.3967, -6.3969, -6.3969, -6.3969, -6.3971, -6.3969, -6.3969, -6.3969, -6.3969, -6.3969, -6.3969, -6.3969, -6.3971, -6.397, -6.397, -6.3971, -3.9989, -3.3519, -3.9985, -3.9978, -6.3573, -6.3846, -6.3865, -6.3868, -6.3869, -6.3874, -6.3882, -6.389, -6.3895, -6.3901, -6.3901, -6.3907, -2.6039, -2.6039, -4.9154, -4.9155, -4.9155, -4.9156, -4.9156, -2.4382, -4.9155, -4.2688, -2.919, -3.8794, -2.9189, -1.5112, -2.9189, -2.3646, -4.9153, -3.8793, -4.9154, -4.9154, -2.4381, -4.9152, -4.2687, -4.9152, -7.3128, -7.3128, -7.3128, -7.3128, -7.3128, -7.3128, -4.9147, -7.2817, -7.2993, -7.3015, -7.3023, -7.303], \"loglift\": [30.0, 29.0, 28.0, 27.0, 26.0, 25.0, 24.0, 23.0, 22.0, 21.0, 20.0, 19.0, 18.0, 17.0, 16.0, 15.0, 14.0, 13.0, 12.0, 11.0, 10.0, 9.0, 8.0, 7.0, 6.0, 5.0, 4.0, 3.0, 2.0, 1.0, 1.9257, 1.8382, 1.7595, 1.7413, 1.6648, 1.611, 1.5803, 1.5466, 1.5101, 1.4931, 1.2105, 0.9993, 0.8867, 0.7789, 0.7229, 0.2866, 0.2165, 0.2135, -0.631, -0.631, -0.631, -0.6311, -0.6312, -0.7186, -0.7504, -0.7504, -0.7505, -0.7505, -0.7505, -0.7505, -1.1217, -1.5379, -4.5417, -4.2343, -4.2219, -3.6871, -3.4808, -3.6382, -3.2358, -3.1994, -3.5128, 1.8926, 1.8056, 1.6968, 1.6587, 1.6285, 1.3795, 1.3795, 1.3794, 1.3794, 1.3794, 1.3635, 1.2024, 1.1214, 1.0933, 1.0335, 0.9437, 0.6795, -0.2206, -0.3062, -0.3067, -0.4205, -0.8666, -0.8983, -0.8983, -0.8984, -0.8984, -0.8985, -0.9859, -1.1153, -1.1155, -1.5171, -5.1204, -4.5015, -4.4928, -3.954, -3.927, -4.1938, -3.7498, 2.031, 1.8455, 1.8134, 1.5873, 1.576, 1.5759, 1.3136, 1.2585, 1.2377, 1.1534, 1.0684, 0.8243, 0.7288, 0.7063, 0.6888, 0.6877, 0.5898, 0.3904, 0.3044, -0.6043, -0.6044, -0.6044, -0.6044, -0.6046, -0.6921, -0.7225, -0.7238, -0.7239, -0.7239, -0.7239, -0.7828, -1.511, -4.8294, -4.5132, -4.1995, -3.4809, -3.6607, -3.6108, -3.4551, -3.6349, 2.0305, 1.9277, 1.7237, 1.6622, 1.6622, 1.6622, 1.6622, 1.6621, 1.662, 1.662, 1.6199, 1.6011, 1.3406, 1.139, 0.8552, 0.5544, 0.4608, -0.0003, -0.0573, -0.0899, -0.2713, -0.4554, -0.4554, -0.4554, -0.4555, -0.4556, -0.5431, -0.5748, -0.5749, -0.5749, -1.0108, -1.0346, -1.3624, -4.3574, -3.4839, -3.4613, -3.3341, -3.4029, -3.3367, 2.0216, 1.9637, 1.8367, 1.8367, 1.764, 1.7634, 1.5832, 1.5698, 1.5621, 1.3075, 1.2101, 1.2034, 1.1984, 0.993, 0.8317, 0.7183, 0.0616, -0.1438, -0.1438, -0.1439, -0.144, -0.144, -0.1478, -0.2314, -0.2632, -0.2633, -0.2633, -0.2633, -0.2633, -0.3608, -0.6059, -0.7092, -4.3665, -3.745, -3.4385, -3.0226, -3.0237, -3.1514, -2.9722, -2.7478, -2.6526, -2.2379, 1.9099, 1.8564, 1.7263, 1.7263, 1.7262, 1.5985, 1.4719, 1.4142, 1.3335, 1.0933, 0.8863, 0.792, 0.7806, 0.7728, 0.5595, 0.513, 0.3581, 0.1026, -0.127, -0.2994, -0.42, -0.4243, -0.4243, -0.4243, -0.4243, -0.4245, -0.512, -0.5437, -0.5438, -0.5438, -0.6027, -0.9157, -1.6494, -2.4526, -4.0162, -3.4818, -3.0274, -3.3037, -3.0048, 2.2807, 1.7314, 1.717, 1.4987, 1.343, 1.2958, 1.1519, 1.1288, 1.0954, 0.4748, 0.3471, -0.0051, -0.0698, -0.18, -0.203, -0.3913, -0.5967, -0.5967, -0.5968, -0.5968, -0.5968, -0.6205, -0.6843, -0.7148, -0.7161, -0.7161, -0.7161, -0.7162, -0.7162, -0.8136, -1.0587, -1.4872, -4.1996, -4.1893, -3.4768, -3.5441, -3.4259, -3.1779, -3.2017, -2.9738, -3.1663, -3.1442, 2.4281, 2.2172, 2.0648, 2.0164, 1.7504, 1.7246, 1.2534, 1.0432, 0.9328, 0.9084, 0.8853, 0.8571, 0.7239, 0.7083, 0.6563, 0.6532, 0.4827, 0.2771, 0.0927, -0.4957, -0.5849, -0.5849, -0.5849, -0.585, -0.5852, -0.7044, -0.7044, -0.7045, -0.7045, -0.7045, -0.7411, -1.0244, -1.1504, -1.4194, -4.4886, -3.8755, -3.4622, -3.4346, -3.1657, -3.1534, 2.1993, 2.116, 1.6225, 1.572, 1.5235, 1.4054, 1.3275, 1.3036, 1.1924, 1.0203, 0.9055, 0.6967, 0.667, 0.4951, 0.1686, 0.1684, 0.1684, 0.1684, 0.1683, 0.0808, 0.049, 0.049, 0.049, 0.049, 0.0489, -0.0486, -0.0487, -0.0783, -0.0784, -0.0785, -0.323, -0.4107, -0.4732, -1.0427, -4.0614, -2.7083, -2.6814, -2.8897, -2.8385, -2.4348, -2.7788, -2.6612, -2.2086, -2.342, -2.4139, -2.0646, 1.8611, 1.6997, 1.65, 1.6498, 1.6497, 1.6497, 1.6497, 1.538, 1.2442, 1.1155, 1.0702, 0.7869, 0.7862, 0.7847, 0.5783, 0.5766, 0.5632, 0.5508, 0.5458, 0.5446, 0.517, -0.087, -0.127, -0.3699, -0.8351, -0.8669, -0.8669, -0.8669, -0.8669, -0.867, -1.2388, -4.6521, -4.0393, -3.7761, -3.6261, -3.7546]}, \"token.table\": {\"Topic\": [4, 8, 4, 6, 8, 10, 1, 7, 9, 1, 9, 10, 3, 6, 10, 3, 6, 7, 4, 4, 5, 7, 8, 10, 6, 6, 2, 8, 5, 1, 4, 1, 5, 8, 2, 5, 6, 8, 3, 10, 3, 4, 1, 2, 6, 5, 7, 9, 7, 10, 4, 3, 7, 10, 10, 2, 8, 1, 2, 7, 10, 10, 3, 6, 1, 6, 8, 1, 3, 4, 6, 7, 9, 2, 5, 6, 7, 9, 2, 8, 5, 4, 1, 3, 4, 6, 7, 9, 2, 1, 3, 4, 6, 7, 3, 6, 7, 10, 2, 3, 4, 10, 3, 5, 7, 8, 9, 3, 3, 7, 8, 10, 2, 5, 8, 1, 2, 8, 2, 9, 4, 2, 6, 7, 8, 1, 9, 10, 8, 9, 4, 1, 5, 6, 7, 8, 9, 2, 3, 5, 6, 9, 10, 3, 6, 9, 10, 2, 8, 9, 5, 6, 10, 3, 9, 4, 5, 1, 4, 6, 7, 8, 10, 4, 5, 6, 7, 10, 6, 3, 4, 6, 10, 2, 10, 5, 7, 3, 9, 2, 3, 2, 2, 1, 2, 5, 10, 1, 3, 4, 8, 1, 1, 6, 8, 8, 1, 2, 4, 5, 4, 5, 8, 9, 10, 1, 2, 5, 7, 8, 2, 1, 4, 5, 10, 4, 3, 4, 6, 8, 9, 10], \"Freq\": [0.4805270888328959, 0.7670746516195208, 0.16895759191000637, 0.39423438112334813, 0.2815959865166773, 0.05631919730333545, 0.14136081686641433, 0.49476285903245015, 0.3534020421660358, 0.5902380240035401, 0.2529591531443743, 0.08431971771479144, 0.39028667807271034, 0.19514333903635517, 0.19514333903635517, 0.2031835965276965, 0.47409505856462514, 0.2709114620369286, 0.48052319745948174, 0.08868603364431235, 0.5025541906511034, 0.059124022429541574, 0.20693407850339549, 0.14781005607385392, 0.4966858063057794, 0.4966834425289517, 0.5640800213280248, 0.8168237302457312, 0.7922398076510796, 0.23682019658590386, 0.4736403931718077, 0.5476630214493597, 0.27383151072467987, 0.13691575536233994, 0.059666666414299005, 0.35799999848579406, 0.417666664900093, 0.11933333282859801, 0.5116828668980402, 0.6356849366678209, 0.2412840096753652, 0.4825680193507304, 0.30927029529366423, 0.30927029529366423, 0.15463514764683212, 0.6752685308281157, 0.16881713270702892, 0.8109223691894322, 0.783226535630723, 0.11188950509010327, 0.480522667681445, 0.21048725685455041, 0.42097451370910083, 0.21048725685455041, 0.6356509395632655, 0.8130048676467851, 0.9371449407675781, 0.03536031373474821, 0.671845960960216, 0.24752219614323748, 0.6356524969370262, 0.6356442054427681, 0.33537697540419215, 0.33537697540419215, 0.5904384260639125, 0.14760960651597813, 0.14760960651597813, 0.15407508728054634, 0.051358362426848776, 0.35950853698794144, 0.2054334497073951, 0.051358362426848776, 0.15407508728054634, 0.7449307127042065, 0.08690858314882409, 0.012415511878403443, 0.024831023756806885, 0.13657063066243785, 0.4661615732390943, 0.4661615732390943, 0.8381081665482621, 0.48052518805574396, 0.023319741214065257, 0.023319741214065257, 0.023319741214065257, 0.20987767092658732, 0.30315663578284835, 0.3731158594250441, 0.781368787870346, 0.051289252493027876, 0.5641817774233067, 0.15386775747908363, 0.10257850498605575, 0.10257850498605575, 0.2334516643939956, 0.0778172214646652, 0.1556344429293304, 0.5447205502526564, 0.22544844915674017, 0.15029896610449345, 0.45089689831348034, 0.15029896610449345, 0.4259134196709487, 0.14197113989031623, 0.07098556994515812, 0.14197113989031623, 0.21295670983547435, 0.5116837580394009, 0.21071738597035208, 0.42143477194070417, 0.21071738597035208, 0.21071738597035208, 0.10451280765148822, 0.6270768459089293, 0.20902561530297645, 0.6831183494482203, 0.11385305824137006, 0.11385305824137006, 0.4950570787446676, 0.4950570787446676, 0.48053165496508693, 0.031115839400358523, 0.6845484668078875, 0.06223167880071705, 0.21781087580250966, 0.571036539564595, 0.19034551318819834, 0.19034551318819834, 0.6383897384050544, 0.3191948692025272, 0.745394750808646, 0.2432585156876586, 0.3344804590705306, 0.06081462892191465, 0.06081462892191465, 0.2128512012267013, 0.06081462892191465, 0.5640835850307931, 0.048350091330859594, 0.29010054798515755, 0.048350091330859594, 0.38680073064687676, 0.24175045665429798, 0.8483589734073024, 0.0353482905586376, 0.0706965811172752, 0.0353482905586376, 0.6426923564219804, 0.049437873570921574, 0.29662724142552943, 0.3973123025113897, 0.13243743417046325, 0.46353101959662135, 0.7249507676522575, 0.2416502558840858, 0.4805237136968749, 0.838106510156154, 0.41798262628359456, 0.03557298947094422, 0.07114597894188844, 0.26679742103208165, 0.01778649473547211, 0.16897169998698502, 0.07279091922523398, 0.07279091922523398, 0.6551182730271058, 0.03639545961261699, 0.18197729806308494, 0.4966829883304852, 0.21441259963784087, 0.21441259963784087, 0.21441259963784087, 0.21441259963784087, 0.4237277937092969, 0.4237277937092969, 0.5003319435462247, 0.33355462903081645, 0.15636177055621078, 0.7818088527810539, 0.3648131967536534, 0.3648131967536534, 0.5640854652048102, 0.56408457143814, 0.6615360423467426, 0.06615360423467426, 0.2315376148213599, 0.6356464427593039, 0.649548290336373, 0.3350915817312473, 0.632950765492356, 0.03723239797013859, 0.7271717657271366, 0.26377404953162015, 0.26377404953162015, 0.26377404953162015, 0.5823369555987721, 0.8040339844848794, 0.3443366944608486, 0.08608417361521215, 0.5165050416912729, 0.7564570632129677, 0.05157661794633871, 0.03438441196422581, 0.03438441196422581, 0.13753764785690323, 0.49200303660016553, 0.10445597990250326, 0.6267358794150196, 0.10445597990250326, 0.20891195980500651, 0.5640830644515722, 0.14318957940026553, 0.09545971960017702, 0.33410901860061953, 0.38183887840070807, 0.48052823710173403, 0.695134818109651, 0.03390901551754395, 0.016954507758771976, 0.050863523276315936, 0.050863523276315936, 0.1356360620701758], \"Term\": [\"adobe\", \"ai\", \"android\", \"android\", \"android\", \"android\", \"androiddevloper\", \"androiddevloper\", \"androiddevloper\", \"angular\", \"angular\", \"angular\", \"appdeveloper\", \"appdeveloper\", \"appdeveloper\", \"appdevloper\", \"appdevloper\", \"appdevloper\", \"back\", \"backend\", \"backend\", \"backend\", \"backend\", \"backend\", \"backennd\", \"brand\", \"cloudengr\", \"css\", \"dataanalyst\", \"db\", \"db\", \"dbdev\", \"dbdev\", \"dbdev\", \"design\", \"design\", \"design\", \"design\", \"designer\", \"designing\", \"developer\", \"developer\", \"devops\", \"devops\", \"devops\", \"django\", \"django\", \"dl\", \"ecommerce\", \"ecommerce\", \"end\", \"excel\", \"excel\", \"excel\", \"flashdevloper\", \"flutter\", \"frontend\", \"fullstack\", \"fullstack\", \"fullstack\", \"gamedesigner\", \"gamedev\", \"gamedevloper\", \"gamedevloper\", \"graphicdesign\", \"graphicdesign\", \"graphicdesign\", \"graphicdesigner\", \"graphicdesigner\", \"graphicdesigner\", \"graphicdesigner\", \"graphicdesigner\", \"graphicdesigner\", \"graphicsdesign\", \"graphicsdesign\", \"graphicsdesign\", \"graphicsdesign\", \"graphicsdesign\", \"html\", \"html\", \"illustration\", \"image\", \"ios\", \"ios\", \"ios\", \"ios\", \"ios\", \"ios\", \"iphoneappdev\", \"java\", \"java\", \"java\", \"java\", \"java\", \"jquery\", \"jquery\", \"jquery\", \"jquery\", \"js\", \"js\", \"js\", \"js\", \"laravel\", \"laravel\", \"laravel\", \"laravel\", \"laravel\", \"linux\", \"ml\", \"ml\", \"ml\", \"ml\", \"mobile\", \"mobile\", \"mobile\", \"mobileappdev\", \"mobileappdev\", \"mobileappdev\", \"mongodb\", \"mongodb\", \"mvc\", \"mysql\", \"mysql\", \"mysql\", \"mysql\", \"net\", \"net\", \"net\", \"nodejs\", \"nodejs\", \"photoshop\", \"php\", \"php\", \"php\", \"php\", \"php\", \"php\", \"pm\", \"python\", \"python\", \"python\", \"python\", \"python\", \"qa\", \"qa\", \"qa\", \"qa\", \"qc\", \"qc\", \"qc\", \"reactjs\", \"reactjs\", \"reactjs\", \"reactnative\", \"reactnative\", \"resizing\", \"scrum\", \"se\", \"se\", \"se\", \"se\", \"se\", \"se\", \"seo\", \"seo\", \"seo\", \"seo\", \"seo\", \"shopify\", \"software\", \"software\", \"software\", \"software\", \"softwaredev\", \"softwaredev\", \"softwaretester\", \"softwaretester\", \"softwaretesting\", \"softwaretesting\", \"spring\", \"spring\", \"tableau\", \"testing\", \"ui\", \"ui\", \"ui\", \"unittesting\", \"unity\", \"ux\", \"ux\", \"ux\", \"vue\", \"web\", \"web\", \"web\", \"webanalyst\", \"webdesigner\", \"webdesignerer\", \"webdesignerer\", \"webdesignerer\", \"webdevloper\", \"webdevloper\", \"webdevloper\", \"webdevloper\", \"webdevloper\", \"webscraping\", \"website\", \"website\", \"website\", \"website\", \"wix\", \"woocommerce\", \"woocommerce\", \"woocommerce\", \"woocommerce\", \"word\", \"wordpress\", \"wordpress\", \"wordpress\", \"wordpress\", \"wordpress\", \"wordpress\"]}, \"R\": 30, \"lambda.step\": 0.01, \"plot.opts\": {\"xlab\": \"PC1\", \"ylab\": \"PC2\"}, \"topic.order\": [6, 2, 7, 5, 9, 8, 1, 4, 10, 3]};\n",
              "\n",
              "function LDAvis_load_lib(url, callback){\n",
              "  var s = document.createElement('script');\n",
              "  s.src = url;\n",
              "  s.async = true;\n",
              "  s.onreadystatechange = s.onload = callback;\n",
              "  s.onerror = function(){console.warn(\"failed to load library \" + url);};\n",
              "  document.getElementsByTagName(\"head\")[0].appendChild(s);\n",
              "}\n",
              "\n",
              "if(typeof(LDAvis) !== \"undefined\"){\n",
              "   // already loaded: just create the visualization\n",
              "   !function(LDAvis){\n",
              "       new LDAvis(\"#\" + \"ldavis_el1291406747281867043230075651\", ldavis_el1291406747281867043230075651_data);\n",
              "   }(LDAvis);\n",
              "}else if(typeof define === \"function\" && define.amd){\n",
              "   // require.js is available: use it to load d3/LDAvis\n",
              "   require.config({paths: {d3: \"https://d3js.org/d3.v5\"}});\n",
              "   require([\"d3\"], function(d3){\n",
              "      window.d3 = d3;\n",
              "      LDAvis_load_lib(\"https://cdn.jsdelivr.net/gh/bmabey/pyLDAvis@3.4.0/pyLDAvis/js/ldavis.v3.0.0.js\", function(){\n",
              "        new LDAvis(\"#\" + \"ldavis_el1291406747281867043230075651\", ldavis_el1291406747281867043230075651_data);\n",
              "      });\n",
              "    });\n",
              "}else{\n",
              "    // require.js not available: dynamically load d3 & LDAvis\n",
              "    LDAvis_load_lib(\"https://d3js.org/d3.v5.js\", function(){\n",
              "         LDAvis_load_lib(\"https://cdn.jsdelivr.net/gh/bmabey/pyLDAvis@3.4.0/pyLDAvis/js/ldavis.v3.0.0.js\", function(){\n",
              "                 new LDAvis(\"#\" + \"ldavis_el1291406747281867043230075651\", ldavis_el1291406747281867043230075651_data);\n",
              "            })\n",
              "         });\n",
              "}\n",
              "</script>"
            ],
            "text/plain": [
              "PreparedData(topic_coordinates=              x         y  topics  cluster       Freq\n",
              "topic                                                \n",
              "5     -0.043232  0.254416       1        1  12.507935\n",
              "1      0.364610 -0.061034       2        1  12.284314\n",
              "6     -0.144392 -0.285425       3        1  11.269693\n",
              "4     -0.155157 -0.109190       4        1  10.980837\n",
              "8      0.115673  0.038639       5        1  10.283178\n",
              "7     -0.096379  0.057653       6        1   9.986605\n",
              "0     -0.028185  0.171783       7        1   8.503814\n",
              "3      0.052580 -0.018530       8        1   8.345417\n",
              "9      0.119934 -0.088276       9        1   7.955235\n",
              "2     -0.185451  0.039965      10        1   7.882973, topic_info=              Term        Freq       Total Category  logprob  loglift\n",
              "61  graphicsdesign   80.000000   80.000000  Default  30.0000  30.0000\n",
              "40              se  112.000000  112.000000  Default  29.0000  29.0000\n",
              "47     webdevloper   58.000000   58.000000  Default  28.0000  28.0000\n",
              "15       wordpress   58.000000   58.000000  Default  27.0000  27.0000\n",
              "54             ios   42.000000   42.000000  Default  26.0000  26.0000\n",
              "..             ...         ...         ...      ...      ...      ...\n",
              "61  graphicsdesign    0.060581   80.544404  Topic10  -7.2817  -4.6521\n",
              "54             ios    0.059527   42.882123  Topic10  -7.2993  -4.0393\n",
              "4              php    0.059396   32.886824  Topic10  -7.3015  -3.7761\n",
              "41       fullstack    0.059347   28.280292  Topic10  -7.3023  -3.6261\n",
              "0            mysql    0.059306   32.137973  Topic10  -7.3030  -3.7546\n",
              "\n",
              "[433 rows x 6 columns], token_table=      Topic      Freq       Term\n",
              "term                            \n",
              "71        4  0.480527      adobe\n",
              "35        8  0.767075         ai\n",
              "16        4  0.168958    android\n",
              "16        6  0.394234    android\n",
              "16        8  0.281596    android\n",
              "...     ...       ...        ...\n",
              "15        4  0.033909  wordpress\n",
              "15        6  0.016955  wordpress\n",
              "15        8  0.050864  wordpress\n",
              "15        9  0.050864  wordpress\n",
              "15       10  0.135636  wordpress\n",
              "\n",
              "[222 rows x 3 columns], R=30, lambda_step=0.01, plot_opts={'xlab': 'PC1', 'ylab': 'PC2'}, topic_order=[6, 2, 7, 5, 9, 8, 1, 4, 10, 3])"
            ]
          },
          "execution_count": 27,
          "metadata": {},
          "output_type": "execute_result"
        }
      ],
      "source": [
        "import pyLDAvis.gensim\n",
        "import pickle\n",
        "import pyLDAvis\n",
        "# Visualize the topics\n",
        "pyLDAvis.enable_notebook()\n",
        "LDAvis_data_filepath = os.path.join('/content/drive/MyDrive/LDAdataprep'+str(num_topics))\n",
        "# # this is a bit time consuming - make the if statement True\n",
        "# # if you want to execute visualization prep yourself\n",
        "if 1 == 1:\n",
        "    LDAvis_prepared = pyLDAvis.gensim.prepare(lda_model, corpus, id2word)\n",
        "    with open(LDAvis_data_filepath, 'wb') as f:\n",
        "        pickle.dump(LDAvis_prepared, f)\n",
        "# load the pre-prepared pyLDAvis data from disk\n",
        "with open(LDAvis_data_filepath, 'rb') as f:\n",
        "    LDAvis_prepared = pickle.load(f)\n",
        "pyLDAvis.save_html(LDAvis_prepared, '/content/drive/MyDrive/LDA_Results'+ str(num_topics) +'.html')\n",
        "LDAvis_prepared"
      ]
    },
    {
      "cell_type": "code",
      "execution_count": null,
      "metadata": {
        "colab": {
          "base_uri": "https://localhost:8080/"
        },
        "id": "dlmkR0AXwBEb",
        "outputId": "43040498-e6e2-4e36-c81f-7b570e97ccfa"
      },
      "outputs": [
        {
          "name": "stdout",
          "output_type": "stream",
          "text": [
            "\n",
            "Job: 0 iteration: 0.319*\"se\" + 0.140*\"ios\" + 0.078*\"ecommerce\" + 0.078*\"fullstack\" + 0.071*\"androiddevloper\" + 0.040*\"appdevloper\" + 0.024*\"php\" + 0.024*\"mysql\" + 0.024*\"softwaretester\" + 0.024*\"excel\"\n",
            "\n",
            "\n",
            "Job: 1 iteration: 0.439*\"graphicsdesign\" + 0.138*\"fullstack\" + 0.092*\"qc\" + 0.075*\"html\" + 0.029*\"webdesignerer\" + 0.029*\"flutter\" + 0.024*\"js\" + 0.018*\"ui\" + 0.018*\"devops\" + 0.012*\"mongodb\"\n",
            "\n",
            "\n",
            "Job: 2 iteration: 0.221*\"se\" + 0.094*\"wordpress\" + 0.087*\"webdevloper\" + 0.087*\"woocommerce\" + 0.074*\"reactjs\" + 0.074*\"jquery\" + 0.054*\"backend\" + 0.054*\"seo\" + 0.054*\"python\" + 0.021*\"js\"\n",
            "\n",
            "\n",
            "Job: 3 iteration: 0.173*\"frontend\" + 0.111*\"html\" + 0.111*\"nodejs\" + 0.071*\"mysql\" + 0.071*\"backend\" + 0.071*\"php\" + 0.056*\"android\" + 0.032*\"wordpress\" + 0.032*\"ai\" + 0.024*\"se\"\n",
            "\n",
            "\n",
            "Job: 4 iteration: 0.358*\"webdevloper\" + 0.135*\"ux\" + 0.054*\"graphicdesigner\" + 0.046*\"js\" + 0.037*\"se\" + 0.037*\"photoshop\" + 0.028*\"backend\" + 0.028*\"android\" + 0.028*\"java\" + 0.019*\"wordpress\"\n",
            "\n",
            "\n",
            "Job: 5 iteration: 0.338*\"se\" + 0.143*\"ui\" + 0.061*\"php\" + 0.053*\"angular\" + 0.046*\"net\" + 0.046*\"mobileappdev\" + 0.038*\"webdesigner\" + 0.031*\"dbdev\" + 0.027*\"graphicdesign\" + 0.023*\"woocommerce\"\n",
            "\n",
            "\n",
            "Job: 6 iteration: 0.324*\"wordpress\" + 0.193*\"qa\" + 0.085*\"java\" + 0.070*\"ux\" + 0.047*\"laravel\" + 0.047*\"reactnative\" + 0.024*\"jquery\" + 0.024*\"appdevloper\" + 0.016*\"js\" + 0.016*\"appdeveloper\"\n",
            "\n",
            "\n",
            "Job: 7 iteration: 0.194*\"mysql\" + 0.157*\"seo\" + 0.084*\"ios\" + 0.075*\"se\" + 0.065*\"design\" + 0.065*\"android\" + 0.065*\"appdevloper\" + 0.038*\"graphicdesigner\" + 0.019*\"php\" + 0.019*\"java\"\n",
            "\n",
            "\n",
            "Job: 8 iteration: 0.147*\"backend\" + 0.099*\"php\" + 0.062*\"graphicsdesign\" + 0.062*\"ui\" + 0.062*\"woocommerce\" + 0.050*\"mobile\" + 0.050*\"design\" + 0.050*\"website\" + 0.050*\"reactjs\" + 0.050*\"python\"\n",
            "\n",
            "\n",
            "Job: 9 iteration: 0.185*\"ios\" + 0.118*\"graphicsdesign\" + 0.085*\"python\" + 0.068*\"qc\" + 0.052*\"nodejs\" + 0.052*\"androiddevloper\" + 0.052*\"softwaretesting\" + 0.035*\"wordpress\" + 0.035*\"graphicdesigner\" + 0.035*\"laravel\"\n",
            "\n"
          ]
        }
      ],
      "source": [
        "for Jobs, topic in lda_model.show_topics(num_topics=20,num_words=10):\n",
        "   print('\\nJob: {} iteration: {}\\n'.format(Jobs, topic))"
      ]
    },
    {
      "cell_type": "code",
      "execution_count": null,
      "metadata": {
        "id": "JZhqtARh9De5"
      },
      "outputs": [],
      "source": []
    }
  ],
  "metadata": {
    "colab": {
      "provenance": []
    },
    "kernelspec": {
      "display_name": "Python 3",
      "name": "python3"
    },
    "language_info": {
      "name": "python"
    }
  },
  "nbformat": 4,
  "nbformat_minor": 0
}